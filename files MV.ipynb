{
 "cells": [
  {
   "cell_type": "markdown",
   "metadata": {},
   "source": [
    "# Create assistant with access to files and a function\n",
    "\n",
    "This assistant is supposed to answer questions about the HR policy on Extraordinary leave. It has access to the following files:\n",
    "\n",
    "- \"Extraordinary leave.pdf\"\n",
    "\n",
    "There is also a function that allows an employee to request a raise.\n",
    "\n",
    "**Note**: in the OpenAI Assistants API (in general, available at OpenAI today in beta as well), you can upload files and enable the **retrieval** tool like so:\n",
    "\n",
    "```python\n",
    "assistant = client.beta.assistants.create(\n",
    "  instructions=\"You are a customer support chatbot. Use your knowledge base to best respond to customer queries.\",\n",
    "  model=\"gpt-4-turbo-preview\",\n",
    "  tools=[{\"type\": \"retrieval\"}]\n",
    ")\n",
    "```\n",
    "\n",
    "You would also upload files and pass the file ids here but that is not shown.\n",
    "\n",
    "Currently though (Feb 2024), the Azure OpenAI Assistants API does not allow you to configure the `retrieval` tool. You can only enable the `code_interpreter` tool. The `code_interpreter` tool might be able to open your documents and read them, but it's not as powerful as the retrieval tool. It basically has to use Python code to read the file and then answer questions about it.\n",
    "\n",
    "Instead of using the `retrieval` tool, we will use an in memory vector store instead with the help of Chroma, LangChain and Azure OpenAI Embeddings.\n",
    "\n",
    "You will need the following packages:\n",
    "- openai\n",
    "- langchain\n",
    "- chroma\n",
    "- dotenv\n",
    "- PyPDF2"
   ]
  },
  {
   "cell_type": "code",
   "execution_count": 1,
   "metadata": {},
   "outputs": [],
   "source": [
    "import os\n",
    "from dotenv import load_dotenv\n",
    "from openai import AzureOpenAI\n",
    "\n",
    "# Load environment variables from .env file\n",
    "# AZURE_OPENAI_API_KEY\n",
    "# AZURE_OPENAI_ENDPOINT\n",
    "# AZURE_OPENAI_API_VERSION\n",
    "load_dotenv()\n",
    "\n",
    "# Create Azure OpenAI client\n",
    "client = AzureOpenAI(\n",
    "    api_key=os.getenv('AZURE_OPENAI_API_KEY'),\n",
    "    azure_endpoint=os.getenv('AZURE_OPENAI_ENDPOINT'),\n",
    "    api_version=os.getenv('AZURE_OPENAI_API_VERSION')\n",
    ")\n",
    "\n"
   ]
  },
  {
   "cell_type": "markdown",
   "metadata": {},
   "source": [
    "## Use Chroma in-memory vector store\n",
    "\n",
    "Below we read a PDF and convert it to text. The text is split into smaller pieces and then handed to Croma to store these pieces + a vector + metadata (file, page number)\n",
    "\n",
    "We then do a similarity search to test if we get results from Chroma."
   ]
  },
  {
   "cell_type": "code",
   "execution_count": 8,
   "metadata": {},
   "outputs": [
    {
     "name": "stdout",
     "output_type": "stream",
     "text": [
      "[Document(page_content='For additional information contact HR: CTG.HR@comtradegaming.comHow to report \\nan extraordinary leave?\\nExtraordinary leave represents absence due to infrequent events such as:\\n• employee’s or their child’s wedding,\\n• birth of a child,\\n• death of a close family member, \\n• employee’s or their family’s move,\\n• blood donor session.\\nIn case one of those events happen, you should inform your Project manager and Team \\nmanager and register your absence in Daily report. In some instances *, HR department will \\nneed adequate evidence for approvement of your request. This kind of absence must be used at the time of the event and is not transferable. You can ﬁnd detailed explanation in the relevant rule book.', metadata={'source': './Extraordinary leave.pdf', 'page': 0}), Document(page_content='*Note: Blood donor session, natural disaster, move, or in case the employee must perform their civic duties, if they are summoned to appear in court or other public authority, or if they are required to carry out their parliamentary duties at national or local level. In case of private matters at court, extraordinary leave is not granted.\\nImportant: You must submit your request in Daily report until the end of the month you \\nwent on extraordinary leave. Requests and eﬀort entries lock on the ﬁrst workday of each month.', metadata={'source': './Extraordinary leave.pdf', 'page': 0}), Document(page_content='For additional information contact HR: CTG.HR@comtradegaming.com• From “Absence type” list choose “Extraordinary Events (OZDID)”.\\n• Next enter the day(s) of your absence.\\n• For extraordinary events it is mandatory to enter the reason of your absence \\nin comment section. \\nExtraordinary leave in Daily report\\n• Open the Daily report application.\\n• Click on a day(s) you plan to be/were absent or click on \\n“Create Item” button (in the right corner of the page) \\nand choose “Register Absence”.• A window will open, where you can create absence request.', metadata={'source': './Extraordinary leave.pdf', 'page': 1}), Document(page_content='When you’ve entered all the relevant information, submit your absence request to Human \\nResources Department by clicking “Submit” button. \\nwww.com tradegaming.comLegend: After HR department accepts your extraordinary leave request and adequate evidence (if applicable), day(s) of your \\nabsence will be marked green. You will also receive a conﬁrmation e-mail. \\nFor additional information contact HR: CTG.HR@comtradegaming.com', metadata={'source': './Extraordinary leave.pdf', 'page': 2})]\n",
      "4\n",
      "[Document(page_content='For additional information contact HR: CTG.HR@comtradegaming.comHow to report \\nan extraordinary leave?\\nExtraordinary leave represents absence due to infrequent events such as:\\n• employee’s or their child’s wedding,\\n• birth of a child,\\n• death of a close family member, \\n• employee’s or their family’s move,\\n• blood donor session.\\nIn case one of those events happen, you should inform your Project manager and Team \\nmanager and register your absence in Daily report. In some instances *, HR department will \\nneed adequate evidence for approvement of your request. This kind of absence must be used at the time of the event and is not transferable. You can ﬁnd detailed explanation in the relevant rule book.', metadata={'page': 0, 'source': './Extraordinary leave.pdf'}), Document(page_content='*Note: Blood donor session, natural disaster, move, or in case the employee must perform their civic duties, if they are summoned to appear in court or other public authority, or if they are required to carry out their parliamentary duties at national or local level. In case of private matters at court, extraordinary leave is not granted.\\nImportant: You must submit your request in Daily report until the end of the month you \\nwent on extraordinary leave. Requests and eﬀort entries lock on the ﬁrst workday of each month.', metadata={'page': 0, 'source': './Extraordinary leave.pdf'}), Document(page_content='For additional information contact HR: CTG.HR@comtradegaming.com• From “Absence type” list choose “Extraordinary Events (OZDID)”.\\n• Next enter the day(s) of your absence.\\n• For extraordinary events it is mandatory to enter the reason of your absence \\nin comment section. \\nExtraordinary leave in Daily report\\n• Open the Daily report application.\\n• Click on a day(s) you plan to be/were absent or click on \\n“Create Item” button (in the right corner of the page) \\nand choose “Register Absence”.• A window will open, where you can create absence request.', metadata={'page': 1, 'source': './Extraordinary leave.pdf'})]\n",
      "3\n"
     ]
    }
   ],
   "source": [
    "# in memory vector store with chroma (pip install chroma)\n",
    "# you also need langchain for this\n",
    "# you can ignore the warnings coming from this code\n",
    "from langchain_community.document_loaders import PyPDFLoader\n",
    "from langchain_openai import AzureOpenAIEmbeddings\n",
    "from langchain.text_splitter import RecursiveCharacterTextSplitter\n",
    "from langchain_community.vectorstores import Chroma\n",
    "\n",
    "pdf = PyPDFLoader(\"./Extraordinary leave.pdf\").load()\n",
    "text_splitter = RecursiveCharacterTextSplitter(\n",
    "    chunk_size=1000,\n",
    "    chunk_overlap=200\n",
    ")\n",
    "documents = text_splitter.split_documents(pdf)\n",
    "print(documents)\n",
    "print(len(documents))\n",
    "db = Chroma.from_documents(documents, AzureOpenAIEmbeddings(client=client, model=\"text-embedding-ada-002\", api_version=\"2023-05-15\"))\n",
    "\n",
    "# query the vector store\n",
    "query = \"Is extraordinary leave transferable?\"\n",
    "docs = db.similarity_search(query, k=3)\n",
    "print(docs)\n",
    "print(len(docs))"
   ]
  },
  {
   "cell_type": "markdown",
   "metadata": {},
   "source": [
    "## Helper function to search the HR policy\n",
    "\n",
    "The helper function does a similarity search and returns the 3 most relavant pieces on content as a JSON string. The JSON string will be the tool output that the model uses to answer a question like: \"What is the policy on vacation days?\"."
   ]
  },
  {
   "cell_type": "code",
   "execution_count": 9,
   "metadata": {},
   "outputs": [
    {
     "name": "stdout",
     "output_type": "stream",
     "text": [
      "[{\"page_content\": \"For additional information contact HR: CTG.HR@comtradegaming.comHow to report \\nan extraordinary leave?\\nExtraordinary leave represents absence due to infrequent events such as:\\n\\u2022 employee\\u2019s or their child\\u2019s wedding,\\n\\u2022 birth of a child,\\n\\u2022 death of a close family member, \\n\\u2022 employee\\u2019s or their family\\u2019s move,\\n\\u2022 blood donor session.\\nIn case one of those events happen, you should inform your Project manager and Team \\nmanager and register your absence in Daily report. In some instances *, HR department will \\nneed adequate evidence for approvement of your request. This kind of absence must be used at the time of the event and is not transferable. You can \\ufb01nd detailed explanation in the relevant rule book.\", \"metadata\": {\"page\": 0, \"source\": \"./Extraordinary leave.pdf\"}, \"type\": \"Document\"}, {\"page_content\": \"*Note: Blood donor session, natural disaster, move, or in case the employee must perform their civic duties, if they are summoned to appear in court or other public authority, or if they are required to carry out their parliamentary duties at national or local level. In case of private matters at court, extraordinary leave is not granted.\\nImportant: You must submit your request in Daily report until the end of the month you \\nwent on extraordinary leave. Requests and e\\ufb00ort entries lock on the \\ufb01rst workday of each month.\", \"metadata\": {\"page\": 0, \"source\": \"./Extraordinary leave.pdf\"}, \"type\": \"Document\"}, {\"page_content\": \"For additional information contact HR: CTG.HR@comtradegaming.com\\u2022 From \\u201cAbsence type\\u201d list choose \\u201cExtraordinary Events (OZDID)\\u201d.\\n\\u2022 Next enter the day(s) of your absence.\\n\\u2022 For extraordinary events it is mandatory to enter the reason of your absence \\nin comment section. \\nExtraordinary leave in Daily report\\n\\u2022 Open the Daily report application.\\n\\u2022 Click on a day(s) you plan to be/were absent or click on \\n\\u201cCreate Item\\u201d button (in the right corner of the page) \\nand choose \\u201cRegister Absence\\u201d.\\u2022 A window will open, where you can create absence request.\", \"metadata\": {\"page\": 1, \"source\": \"./Extraordinary leave.pdf\"}, \"type\": \"Document\"}]\n"
     ]
    }
   ],
   "source": [
    "import json\n",
    "\n",
    "# function to retrieve HR questions\n",
    "def hr_query(query):\n",
    "    docs = db.similarity_search(query, k=3)\n",
    "    docs_dict = [doc.__dict__ for doc in docs]\n",
    "    return json.dumps(docs_dict)\n",
    "\n",
    "# try the function; docs array as JSON\n",
    "print(hr_query(\"Is extraordinary leave transferable?\"))"
   ]
  },
  {
   "cell_type": "markdown",
   "metadata": {},
   "source": [
    "## Create the assistant with code\n",
    "\n",
    "Here you see how to add functions to an assistant from code. It's an array of JSON that defines custom functions or built-in tools like `code_interpreter`.\n",
    "\n",
    "We show how to upload files and add them to the assistant. As discussed earlier, we cannot enable the built-in `retrieval` tool yet."
   ]
  },
  {
   "cell_type": "code",
   "execution_count": 10,
   "metadata": {},
   "outputs": [
    {
     "name": "stdout",
     "output_type": "stream",
     "text": [
      "The file 'assistant_id.txt' does not exist.\n",
      "Assistant ID: None\n"
     ]
    },
    {
     "ename": "BadRequestError",
     "evalue": "Error code: 400 - {'error': {'type': 'invalid_request_error', 'param': 'model', 'code': 'model_not_found'}}",
     "output_type": "error",
     "traceback": [
      "\u001b[1;31m---------------------------------------------------------------------------\u001b[0m",
      "\u001b[1;31mBadRequestError\u001b[0m                           Traceback (most recent call last)",
      "Cell \u001b[1;32mIn[10], line 22\u001b[0m\n\u001b[0;32m     18\u001b[0m \u001b[38;5;28mprint\u001b[39m(\u001b[38;5;124m'\u001b[39m\u001b[38;5;124mAssistant ID:\u001b[39m\u001b[38;5;124m'\u001b[39m, assistant_id)\n\u001b[0;32m     20\u001b[0m \u001b[38;5;28;01mif\u001b[39;00m assistant_id \u001b[38;5;129;01mis\u001b[39;00m \u001b[38;5;28;01mNone\u001b[39;00m:\n\u001b[0;32m     21\u001b[0m     \u001b[38;5;66;03m# Create a new assistant\u001b[39;00m\n\u001b[1;32m---> 22\u001b[0m     assistant \u001b[38;5;241m=\u001b[39m \u001b[43mclient\u001b[49m\u001b[38;5;241;43m.\u001b[39;49m\u001b[43mbeta\u001b[49m\u001b[38;5;241;43m.\u001b[39;49m\u001b[43massistants\u001b[49m\u001b[38;5;241;43m.\u001b[39;49m\u001b[43mcreate\u001b[49m\u001b[43m(\u001b[49m\n\u001b[0;32m     23\u001b[0m \u001b[43m        \u001b[49m\u001b[43mname\u001b[49m\u001b[38;5;241;43m=\u001b[39;49m\u001b[38;5;124;43m\"\u001b[39;49m\u001b[38;5;124;43mHR Assistant\u001b[39;49m\u001b[38;5;124;43m\"\u001b[39;49m\u001b[43m,\u001b[49m\n\u001b[0;32m     24\u001b[0m \u001b[43m        \u001b[49m\u001b[43minstructions\u001b[49m\u001b[38;5;241;43m=\u001b[39;49m\u001b[38;5;124;43m\"\"\"\u001b[39;49m\u001b[38;5;124;43mYou are an HR Assistant for the company Innovatek.\u001b[39;49m\n\u001b[0;32m     25\u001b[0m \u001b[38;5;124;43m        You answer questions about HR policy from the the hr_query function you have access to. hr_query only answers\u001b[39;49m\n\u001b[0;32m     26\u001b[0m \u001b[38;5;124;43m        questions realted to the HR policy of Innovatek. When you get an answer, check the metadata and return document paths or urls\u001b[39;49m\n\u001b[0;32m     27\u001b[0m \u001b[38;5;124;43m        that were used as the source of the answer.\u001b[39;49m\n\u001b[0;32m     28\u001b[0m \u001b[38;5;124;43m        Users can ask for a raise. If they do, so call the function `request_raise` with the amount they are asking for.\u001b[39;49m\n\u001b[0;32m     29\u001b[0m \u001b[38;5;124;43m        If you do not know the employee before asking a raise, ask the user for their name.\u001b[39;49m\n\u001b[0;32m     30\u001b[0m \u001b[38;5;124;43m        \u001b[39;49m\u001b[38;5;124;43m\"\"\"\u001b[39;49m\u001b[43m,\u001b[49m\n\u001b[0;32m     31\u001b[0m \u001b[43m        \u001b[49m\u001b[43mtools\u001b[49m\u001b[38;5;241;43m=\u001b[39;49m\u001b[43m[\u001b[49m\u001b[43m{\u001b[49m\u001b[43m \u001b[49m\n\u001b[0;32m     32\u001b[0m \u001b[43m            \u001b[49m\u001b[38;5;124;43m\"\u001b[39;49m\u001b[38;5;124;43mfunction\u001b[39;49m\u001b[38;5;124;43m\"\u001b[39;49m\u001b[43m:\u001b[49m\u001b[43m \u001b[49m\u001b[43m{\u001b[49m\n\u001b[0;32m     33\u001b[0m \u001b[43m                \u001b[49m\u001b[38;5;124;43m\"\u001b[39;49m\u001b[38;5;124;43mname\u001b[39;49m\u001b[38;5;124;43m\"\u001b[39;49m\u001b[43m:\u001b[49m\u001b[43m \u001b[49m\u001b[38;5;124;43m\"\u001b[39;49m\u001b[38;5;124;43mrequest_raise\u001b[39;49m\u001b[38;5;124;43m\"\u001b[39;49m\u001b[43m,\u001b[49m\n\u001b[0;32m     34\u001b[0m \u001b[43m                \u001b[49m\u001b[38;5;124;43m\"\u001b[39;49m\u001b[38;5;124;43mdescription\u001b[39;49m\u001b[38;5;124;43m\"\u001b[39;49m\u001b[43m:\u001b[49m\u001b[43m \u001b[49m\u001b[38;5;124;43m\"\u001b[39;49m\u001b[38;5;124;43mRequest a raise for an employee\u001b[39;49m\u001b[38;5;124;43m\"\u001b[39;49m\u001b[43m,\u001b[49m\n\u001b[0;32m     35\u001b[0m \u001b[43m                \u001b[49m\u001b[38;5;124;43m\"\u001b[39;49m\u001b[38;5;124;43mparameters\u001b[39;49m\u001b[38;5;124;43m\"\u001b[39;49m\u001b[43m:\u001b[49m\u001b[43m \u001b[49m\u001b[43m{\u001b[49m\n\u001b[0;32m     36\u001b[0m \u001b[43m                \u001b[49m\u001b[38;5;124;43m\"\u001b[39;49m\u001b[38;5;124;43mtype\u001b[39;49m\u001b[38;5;124;43m\"\u001b[39;49m\u001b[43m:\u001b[49m\u001b[43m \u001b[49m\u001b[38;5;124;43m\"\u001b[39;49m\u001b[38;5;124;43mobject\u001b[39;49m\u001b[38;5;124;43m\"\u001b[39;49m\u001b[43m,\u001b[49m\n\u001b[0;32m     37\u001b[0m \u001b[43m                \u001b[49m\u001b[38;5;124;43m\"\u001b[39;49m\u001b[38;5;124;43mproperties\u001b[39;49m\u001b[38;5;124;43m\"\u001b[39;49m\u001b[43m:\u001b[49m\u001b[43m \u001b[49m\u001b[43m{\u001b[49m\n\u001b[0;32m     38\u001b[0m \u001b[43m                    \u001b[49m\u001b[38;5;124;43m\"\u001b[39;49m\u001b[38;5;124;43memployee\u001b[39;49m\u001b[38;5;124;43m\"\u001b[39;49m\u001b[43m:\u001b[49m\u001b[43m \u001b[49m\u001b[43m{\u001b[49m\n\u001b[0;32m     39\u001b[0m \u001b[43m                        \u001b[49m\u001b[38;5;124;43m\"\u001b[39;49m\u001b[38;5;124;43mtype\u001b[39;49m\u001b[38;5;124;43m\"\u001b[39;49m\u001b[43m:\u001b[49m\u001b[43m \u001b[49m\u001b[38;5;124;43m\"\u001b[39;49m\u001b[38;5;124;43mstring\u001b[39;49m\u001b[38;5;124;43m\"\u001b[39;49m\u001b[43m,\u001b[49m\n\u001b[0;32m     40\u001b[0m \u001b[43m                        \u001b[49m\u001b[38;5;124;43m\"\u001b[39;49m\u001b[38;5;124;43mdescription\u001b[39;49m\u001b[38;5;124;43m\"\u001b[39;49m\u001b[43m:\u001b[49m\u001b[43m \u001b[49m\u001b[38;5;124;43m\"\u001b[39;49m\u001b[38;5;124;43mName of the employee. Ask the user if you do not know.\u001b[39;49m\u001b[38;5;124;43m\"\u001b[39;49m\n\u001b[0;32m     41\u001b[0m \u001b[43m                        \u001b[49m\u001b[43m}\u001b[49m\u001b[43m,\u001b[49m\n\u001b[0;32m     42\u001b[0m \u001b[43m                    \u001b[49m\u001b[38;5;124;43m\"\u001b[39;49m\u001b[38;5;124;43mamount\u001b[39;49m\u001b[38;5;124;43m\"\u001b[39;49m\u001b[43m:\u001b[49m\u001b[43m \u001b[49m\u001b[43m{\u001b[49m\n\u001b[0;32m     43\u001b[0m \u001b[43m                        \u001b[49m\u001b[38;5;124;43m\"\u001b[39;49m\u001b[38;5;124;43mtype\u001b[39;49m\u001b[38;5;124;43m\"\u001b[39;49m\u001b[43m:\u001b[49m\u001b[43m \u001b[49m\u001b[38;5;124;43m\"\u001b[39;49m\u001b[38;5;124;43minteger\u001b[39;49m\u001b[38;5;124;43m\"\u001b[39;49m\u001b[43m,\u001b[49m\n\u001b[0;32m     44\u001b[0m \u001b[43m                        \u001b[49m\u001b[38;5;124;43m\"\u001b[39;49m\u001b[38;5;124;43mdescription\u001b[39;49m\u001b[38;5;124;43m\"\u001b[39;49m\u001b[43m:\u001b[49m\u001b[43m \u001b[49m\u001b[38;5;124;43m\"\u001b[39;49m\u001b[38;5;124;43mThe raise amount, not the new salary\u001b[39;49m\u001b[38;5;124;43m\"\u001b[39;49m\n\u001b[0;32m     45\u001b[0m \u001b[43m                        \u001b[49m\u001b[43m}\u001b[49m\n\u001b[0;32m     46\u001b[0m \u001b[43m                \u001b[49m\u001b[43m}\u001b[49m\u001b[43m,\u001b[49m\n\u001b[0;32m     47\u001b[0m \u001b[43m                \u001b[49m\u001b[38;5;124;43m\"\u001b[39;49m\u001b[38;5;124;43mrequired\u001b[39;49m\u001b[38;5;124;43m\"\u001b[39;49m\u001b[43m:\u001b[49m\u001b[43m \u001b[49m\u001b[43m[\u001b[49m\n\u001b[0;32m     48\u001b[0m \u001b[43m                    \u001b[49m\u001b[38;5;124;43m\"\u001b[39;49m\u001b[38;5;124;43memployee\u001b[39;49m\u001b[38;5;124;43m\"\u001b[39;49m\u001b[43m,\u001b[49m\n\u001b[0;32m     49\u001b[0m \u001b[43m                    \u001b[49m\u001b[38;5;124;43m\"\u001b[39;49m\u001b[38;5;124;43mamount\u001b[39;49m\u001b[38;5;124;43m\"\u001b[39;49m\n\u001b[0;32m     50\u001b[0m \u001b[43m                \u001b[49m\u001b[43m]\u001b[49m\n\u001b[0;32m     51\u001b[0m \u001b[43m                \u001b[49m\u001b[43m}\u001b[49m\n\u001b[0;32m     52\u001b[0m \u001b[43m            \u001b[49m\u001b[43m}\u001b[49m\u001b[43m,\u001b[49m\n\u001b[0;32m     53\u001b[0m \u001b[43m            \u001b[49m\u001b[38;5;124;43m\"\u001b[39;49m\u001b[38;5;124;43mtype\u001b[39;49m\u001b[38;5;124;43m\"\u001b[39;49m\u001b[43m:\u001b[49m\u001b[43m \u001b[49m\u001b[38;5;124;43m\"\u001b[39;49m\u001b[38;5;124;43mfunction\u001b[39;49m\u001b[38;5;124;43m\"\u001b[39;49m\n\u001b[0;32m     54\u001b[0m \u001b[43m            \u001b[49m\u001b[43m}\u001b[49m\u001b[43m,\u001b[49m\n\u001b[0;32m     55\u001b[0m \u001b[43m            \u001b[49m\u001b[43m{\u001b[49m\u001b[43m \u001b[49m\n\u001b[0;32m     56\u001b[0m \u001b[43m            \u001b[49m\u001b[38;5;124;43m\"\u001b[39;49m\u001b[38;5;124;43mfunction\u001b[39;49m\u001b[38;5;124;43m\"\u001b[39;49m\u001b[43m:\u001b[49m\u001b[43m \u001b[49m\u001b[43m{\u001b[49m\n\u001b[0;32m     57\u001b[0m \u001b[43m                \u001b[49m\u001b[38;5;124;43m\"\u001b[39;49m\u001b[38;5;124;43mname\u001b[39;49m\u001b[38;5;124;43m\"\u001b[39;49m\u001b[43m:\u001b[49m\u001b[43m \u001b[49m\u001b[38;5;124;43m\"\u001b[39;49m\u001b[38;5;124;43mhr_query\u001b[39;49m\u001b[38;5;124;43m\"\u001b[39;49m\u001b[43m,\u001b[49m\n\u001b[0;32m     58\u001b[0m \u001b[43m                \u001b[49m\u001b[38;5;124;43m\"\u001b[39;49m\u001b[38;5;124;43mdescription\u001b[39;49m\u001b[38;5;124;43m\"\u001b[39;49m\u001b[43m:\u001b[49m\u001b[43m \u001b[49m\u001b[38;5;124;43m\"\u001b[39;49m\u001b[38;5;124;43mCan answer HR related questions\u001b[39;49m\u001b[38;5;124;43m\"\u001b[39;49m\u001b[43m,\u001b[49m\n\u001b[0;32m     59\u001b[0m \u001b[43m                \u001b[49m\u001b[38;5;124;43m\"\u001b[39;49m\u001b[38;5;124;43mparameters\u001b[39;49m\u001b[38;5;124;43m\"\u001b[39;49m\u001b[43m:\u001b[49m\u001b[43m \u001b[49m\u001b[43m{\u001b[49m\n\u001b[0;32m     60\u001b[0m \u001b[43m                \u001b[49m\u001b[38;5;124;43m\"\u001b[39;49m\u001b[38;5;124;43mtype\u001b[39;49m\u001b[38;5;124;43m\"\u001b[39;49m\u001b[43m:\u001b[49m\u001b[43m \u001b[49m\u001b[38;5;124;43m\"\u001b[39;49m\u001b[38;5;124;43mobject\u001b[39;49m\u001b[38;5;124;43m\"\u001b[39;49m\u001b[43m,\u001b[49m\n\u001b[0;32m     61\u001b[0m \u001b[43m                \u001b[49m\u001b[38;5;124;43m\"\u001b[39;49m\u001b[38;5;124;43mproperties\u001b[39;49m\u001b[38;5;124;43m\"\u001b[39;49m\u001b[43m:\u001b[49m\u001b[43m \u001b[49m\u001b[43m{\u001b[49m\n\u001b[0;32m     62\u001b[0m \u001b[43m                    \u001b[49m\u001b[38;5;124;43m\"\u001b[39;49m\u001b[38;5;124;43mquery\u001b[39;49m\u001b[38;5;124;43m\"\u001b[39;49m\u001b[43m:\u001b[49m\u001b[43m \u001b[49m\u001b[43m{\u001b[49m\n\u001b[0;32m     63\u001b[0m \u001b[43m                        \u001b[49m\u001b[38;5;124;43m\"\u001b[39;49m\u001b[38;5;124;43mtype\u001b[39;49m\u001b[38;5;124;43m\"\u001b[39;49m\u001b[43m:\u001b[49m\u001b[43m \u001b[49m\u001b[38;5;124;43m\"\u001b[39;49m\u001b[38;5;124;43mstring\u001b[39;49m\u001b[38;5;124;43m\"\u001b[39;49m\u001b[43m,\u001b[49m\n\u001b[0;32m     64\u001b[0m \u001b[43m                        \u001b[49m\u001b[38;5;124;43m\"\u001b[39;49m\u001b[38;5;124;43mdescription\u001b[39;49m\u001b[38;5;124;43m\"\u001b[39;49m\u001b[43m:\u001b[49m\u001b[43m \u001b[49m\u001b[38;5;124;43m\"\u001b[39;49m\u001b[38;5;124;43mHR-related question for company Innovatek\u001b[39;49m\u001b[38;5;124;43m\"\u001b[39;49m\n\u001b[0;32m     65\u001b[0m \u001b[43m                        \u001b[49m\u001b[43m}\u001b[49m\n\u001b[0;32m     66\u001b[0m \u001b[43m                \u001b[49m\u001b[43m}\u001b[49m\u001b[43m,\u001b[49m\n\u001b[0;32m     67\u001b[0m \u001b[43m                \u001b[49m\u001b[38;5;124;43m\"\u001b[39;49m\u001b[38;5;124;43mrequired\u001b[39;49m\u001b[38;5;124;43m\"\u001b[39;49m\u001b[43m:\u001b[49m\u001b[43m \u001b[49m\u001b[43m[\u001b[49m\n\u001b[0;32m     68\u001b[0m \u001b[43m                    \u001b[49m\u001b[38;5;124;43m\"\u001b[39;49m\u001b[38;5;124;43mquery\u001b[39;49m\u001b[38;5;124;43m\"\u001b[39;49m\n\u001b[0;32m     69\u001b[0m \u001b[43m                \u001b[49m\u001b[43m]\u001b[49m\n\u001b[0;32m     70\u001b[0m \u001b[43m                \u001b[49m\u001b[43m}\u001b[49m\n\u001b[0;32m     71\u001b[0m \u001b[43m            \u001b[49m\u001b[43m}\u001b[49m\u001b[43m,\u001b[49m\n\u001b[0;32m     72\u001b[0m \u001b[43m            \u001b[49m\u001b[38;5;124;43m\"\u001b[39;49m\u001b[38;5;124;43mtype\u001b[39;49m\u001b[38;5;124;43m\"\u001b[39;49m\u001b[43m:\u001b[49m\u001b[43m \u001b[49m\u001b[38;5;124;43m\"\u001b[39;49m\u001b[38;5;124;43mfunction\u001b[39;49m\u001b[38;5;124;43m\"\u001b[39;49m\n\u001b[0;32m     73\u001b[0m \u001b[43m            \u001b[49m\u001b[43m}\u001b[49m\u001b[43m,\u001b[49m\u001b[43m \u001b[49m\n\u001b[0;32m     74\u001b[0m \u001b[43m            \u001b[49m\u001b[43m{\u001b[49m\n\u001b[0;32m     75\u001b[0m \u001b[43m                \u001b[49m\u001b[38;5;124;43m\"\u001b[39;49m\u001b[38;5;124;43mtype\u001b[39;49m\u001b[38;5;124;43m\"\u001b[39;49m\u001b[43m:\u001b[49m\u001b[43m \u001b[49m\u001b[38;5;124;43m\"\u001b[39;49m\u001b[38;5;124;43mcode_interpreter\u001b[39;49m\u001b[38;5;124;43m\"\u001b[39;49m\u001b[43m,\u001b[49m\u001b[43m  \u001b[49m\u001b[38;5;66;43;03m# should be set to retrieval but that is not supported yet; required or file_ids will throw error\u001b[39;49;00m\n\u001b[0;32m     76\u001b[0m \u001b[43m            \u001b[49m\u001b[43m}\u001b[49m\n\u001b[0;32m     77\u001b[0m \u001b[43m        \u001b[49m\u001b[43m]\u001b[49m\u001b[43m,\u001b[49m\n\u001b[0;32m     78\u001b[0m \u001b[43m        \u001b[49m\u001b[43mmodel\u001b[49m\u001b[38;5;241;43m=\u001b[39;49m\u001b[38;5;124;43m\"\u001b[39;49m\u001b[38;5;124;43mgpt-4-preview\u001b[39;49m\u001b[38;5;124;43m\"\u001b[39;49m\u001b[43m,\u001b[49m\u001b[43m \u001b[49m\u001b[38;5;66;43;03m# ensure you have a deployment in the region you are using\u001b[39;49;00m\n\u001b[0;32m     79\u001b[0m \u001b[43m        \u001b[49m\u001b[43mfile_ids\u001b[49m\u001b[38;5;241;43m=\u001b[39;49m\u001b[43m[\u001b[49m\u001b[43mhr_policy_file\u001b[49m\u001b[38;5;241;43m.\u001b[39;49m\u001b[43mid\u001b[49m\u001b[43m]\u001b[49m\u001b[43m \u001b[49m\u001b[38;5;66;43;03m# pass the file_ids, max 20\u001b[39;49;00m\n\u001b[0;32m     80\u001b[0m \u001b[43m    \u001b[49m\u001b[43m)\u001b[49m\n\u001b[0;32m     82\u001b[0m     \u001b[38;5;66;03m# write the assistant ID to a file\u001b[39;00m\n\u001b[0;32m     83\u001b[0m     assistant_id \u001b[38;5;241m=\u001b[39m assistant\u001b[38;5;241m.\u001b[39mid\n",
      "File \u001b[1;32mc:\\Users\\markovu\\AppData\\Local\\Programs\\Python\\Python311\\Lib\\site-packages\\openai\\resources\\beta\\assistants\\assistants.py:108\u001b[0m, in \u001b[0;36mAssistants.create\u001b[1;34m(self, model, description, file_ids, instructions, metadata, name, tools, extra_headers, extra_query, extra_body, timeout)\u001b[0m\n\u001b[0;32m     70\u001b[0m \u001b[38;5;250m\u001b[39m\u001b[38;5;124;03m\"\"\"\u001b[39;00m\n\u001b[0;32m     71\u001b[0m \u001b[38;5;124;03mCreate an assistant with a model and instructions.\u001b[39;00m\n\u001b[0;32m     72\u001b[0m \n\u001b[1;32m   (...)\u001b[0m\n\u001b[0;32m    105\u001b[0m \u001b[38;5;124;03m  timeout: Override the client-level default timeout for this request, in seconds\u001b[39;00m\n\u001b[0;32m    106\u001b[0m \u001b[38;5;124;03m\"\"\"\u001b[39;00m\n\u001b[0;32m    107\u001b[0m extra_headers \u001b[38;5;241m=\u001b[39m {\u001b[38;5;124m\"\u001b[39m\u001b[38;5;124mOpenAI-Beta\u001b[39m\u001b[38;5;124m\"\u001b[39m: \u001b[38;5;124m\"\u001b[39m\u001b[38;5;124massistants=v1\u001b[39m\u001b[38;5;124m\"\u001b[39m, \u001b[38;5;241m*\u001b[39m\u001b[38;5;241m*\u001b[39m(extra_headers \u001b[38;5;129;01mor\u001b[39;00m {})}\n\u001b[1;32m--> 108\u001b[0m \u001b[38;5;28;01mreturn\u001b[39;00m \u001b[38;5;28;43mself\u001b[39;49m\u001b[38;5;241;43m.\u001b[39;49m\u001b[43m_post\u001b[49m\u001b[43m(\u001b[49m\n\u001b[0;32m    109\u001b[0m \u001b[43m    \u001b[49m\u001b[38;5;124;43m\"\u001b[39;49m\u001b[38;5;124;43m/assistants\u001b[39;49m\u001b[38;5;124;43m\"\u001b[39;49m\u001b[43m,\u001b[49m\n\u001b[0;32m    110\u001b[0m \u001b[43m    \u001b[49m\u001b[43mbody\u001b[49m\u001b[38;5;241;43m=\u001b[39;49m\u001b[43mmaybe_transform\u001b[49m\u001b[43m(\u001b[49m\n\u001b[0;32m    111\u001b[0m \u001b[43m        \u001b[49m\u001b[43m{\u001b[49m\n\u001b[0;32m    112\u001b[0m \u001b[43m            \u001b[49m\u001b[38;5;124;43m\"\u001b[39;49m\u001b[38;5;124;43mmodel\u001b[39;49m\u001b[38;5;124;43m\"\u001b[39;49m\u001b[43m:\u001b[49m\u001b[43m \u001b[49m\u001b[43mmodel\u001b[49m\u001b[43m,\u001b[49m\n\u001b[0;32m    113\u001b[0m \u001b[43m            \u001b[49m\u001b[38;5;124;43m\"\u001b[39;49m\u001b[38;5;124;43mdescription\u001b[39;49m\u001b[38;5;124;43m\"\u001b[39;49m\u001b[43m:\u001b[49m\u001b[43m \u001b[49m\u001b[43mdescription\u001b[49m\u001b[43m,\u001b[49m\n\u001b[0;32m    114\u001b[0m \u001b[43m            \u001b[49m\u001b[38;5;124;43m\"\u001b[39;49m\u001b[38;5;124;43mfile_ids\u001b[39;49m\u001b[38;5;124;43m\"\u001b[39;49m\u001b[43m:\u001b[49m\u001b[43m \u001b[49m\u001b[43mfile_ids\u001b[49m\u001b[43m,\u001b[49m\n\u001b[0;32m    115\u001b[0m \u001b[43m            \u001b[49m\u001b[38;5;124;43m\"\u001b[39;49m\u001b[38;5;124;43minstructions\u001b[39;49m\u001b[38;5;124;43m\"\u001b[39;49m\u001b[43m:\u001b[49m\u001b[43m \u001b[49m\u001b[43minstructions\u001b[49m\u001b[43m,\u001b[49m\n\u001b[0;32m    116\u001b[0m \u001b[43m            \u001b[49m\u001b[38;5;124;43m\"\u001b[39;49m\u001b[38;5;124;43mmetadata\u001b[39;49m\u001b[38;5;124;43m\"\u001b[39;49m\u001b[43m:\u001b[49m\u001b[43m \u001b[49m\u001b[43mmetadata\u001b[49m\u001b[43m,\u001b[49m\n\u001b[0;32m    117\u001b[0m \u001b[43m            \u001b[49m\u001b[38;5;124;43m\"\u001b[39;49m\u001b[38;5;124;43mname\u001b[39;49m\u001b[38;5;124;43m\"\u001b[39;49m\u001b[43m:\u001b[49m\u001b[43m \u001b[49m\u001b[43mname\u001b[49m\u001b[43m,\u001b[49m\n\u001b[0;32m    118\u001b[0m \u001b[43m            \u001b[49m\u001b[38;5;124;43m\"\u001b[39;49m\u001b[38;5;124;43mtools\u001b[39;49m\u001b[38;5;124;43m\"\u001b[39;49m\u001b[43m:\u001b[49m\u001b[43m \u001b[49m\u001b[43mtools\u001b[49m\u001b[43m,\u001b[49m\n\u001b[0;32m    119\u001b[0m \u001b[43m        \u001b[49m\u001b[43m}\u001b[49m\u001b[43m,\u001b[49m\n\u001b[0;32m    120\u001b[0m \u001b[43m        \u001b[49m\u001b[43massistant_create_params\u001b[49m\u001b[38;5;241;43m.\u001b[39;49m\u001b[43mAssistantCreateParams\u001b[49m\u001b[43m,\u001b[49m\n\u001b[0;32m    121\u001b[0m \u001b[43m    \u001b[49m\u001b[43m)\u001b[49m\u001b[43m,\u001b[49m\n\u001b[0;32m    122\u001b[0m \u001b[43m    \u001b[49m\u001b[43moptions\u001b[49m\u001b[38;5;241;43m=\u001b[39;49m\u001b[43mmake_request_options\u001b[49m\u001b[43m(\u001b[49m\n\u001b[0;32m    123\u001b[0m \u001b[43m        \u001b[49m\u001b[43mextra_headers\u001b[49m\u001b[38;5;241;43m=\u001b[39;49m\u001b[43mextra_headers\u001b[49m\u001b[43m,\u001b[49m\u001b[43m \u001b[49m\u001b[43mextra_query\u001b[49m\u001b[38;5;241;43m=\u001b[39;49m\u001b[43mextra_query\u001b[49m\u001b[43m,\u001b[49m\u001b[43m \u001b[49m\u001b[43mextra_body\u001b[49m\u001b[38;5;241;43m=\u001b[39;49m\u001b[43mextra_body\u001b[49m\u001b[43m,\u001b[49m\u001b[43m \u001b[49m\u001b[43mtimeout\u001b[49m\u001b[38;5;241;43m=\u001b[39;49m\u001b[43mtimeout\u001b[49m\n\u001b[0;32m    124\u001b[0m \u001b[43m    \u001b[49m\u001b[43m)\u001b[49m\u001b[43m,\u001b[49m\n\u001b[0;32m    125\u001b[0m \u001b[43m    \u001b[49m\u001b[43mcast_to\u001b[49m\u001b[38;5;241;43m=\u001b[39;49m\u001b[43mAssistant\u001b[49m\u001b[43m,\u001b[49m\n\u001b[0;32m    126\u001b[0m \u001b[43m\u001b[49m\u001b[43m)\u001b[49m\n",
      "File \u001b[1;32mc:\\Users\\markovu\\AppData\\Local\\Programs\\Python\\Python311\\Lib\\site-packages\\openai\\_base_client.py:1179\u001b[0m, in \u001b[0;36mpost\u001b[1;34m(self, path, cast_to, body, options, files, stream, stream_cls)\u001b[0m\n\u001b[0;32m   1158\u001b[0m \u001b[38;5;129m@overload\u001b[39m\n\u001b[0;32m   1159\u001b[0m \u001b[38;5;28;01mdef\u001b[39;00m \u001b[38;5;21mpost\u001b[39m(\n\u001b[0;32m   1160\u001b[0m     \u001b[38;5;28mself\u001b[39m,\n\u001b[1;32m   (...)\u001b[0m\n\u001b[0;32m   1168\u001b[0m     stream_cls: \u001b[38;5;28mtype\u001b[39m[_StreamT],\n\u001b[0;32m   1169\u001b[0m ) \u001b[38;5;241m-\u001b[39m\u001b[38;5;241m>\u001b[39m _StreamT:\n\u001b[0;32m   1170\u001b[0m     \u001b[38;5;241m.\u001b[39m\u001b[38;5;241m.\u001b[39m\u001b[38;5;241m.\u001b[39m\n\u001b[0;32m   1172\u001b[0m \u001b[38;5;129m@overload\u001b[39m\n\u001b[0;32m   1173\u001b[0m \u001b[38;5;28;01mdef\u001b[39;00m \u001b[38;5;21mpost\u001b[39m(\n\u001b[0;32m   1174\u001b[0m     \u001b[38;5;28mself\u001b[39m,\n\u001b[0;32m   1175\u001b[0m     path: \u001b[38;5;28mstr\u001b[39m,\n\u001b[0;32m   1176\u001b[0m     \u001b[38;5;241m*\u001b[39m,\n\u001b[0;32m   1177\u001b[0m     cast_to: Type[ResponseT],\n\u001b[0;32m   1178\u001b[0m     body: Body \u001b[38;5;241m|\u001b[39m \u001b[38;5;28;01mNone\u001b[39;00m \u001b[38;5;241m=\u001b[39m \u001b[38;5;28;01mNone\u001b[39;00m,\n\u001b[1;32m-> 1179\u001b[0m     options: RequestOptions \u001b[38;5;241m=\u001b[39m {},\n\u001b[0;32m   1180\u001b[0m     files: RequestFiles \u001b[38;5;241m|\u001b[39m \u001b[38;5;28;01mNone\u001b[39;00m \u001b[38;5;241m=\u001b[39m \u001b[38;5;28;01mNone\u001b[39;00m,\n\u001b[0;32m   1181\u001b[0m     stream: \u001b[38;5;28mbool\u001b[39m,\n\u001b[0;32m   1182\u001b[0m     stream_cls: \u001b[38;5;28mtype\u001b[39m[_StreamT] \u001b[38;5;241m|\u001b[39m \u001b[38;5;28;01mNone\u001b[39;00m \u001b[38;5;241m=\u001b[39m \u001b[38;5;28;01mNone\u001b[39;00m,\n\u001b[0;32m   1183\u001b[0m ) \u001b[38;5;241m-\u001b[39m\u001b[38;5;241m>\u001b[39m ResponseT \u001b[38;5;241m|\u001b[39m _StreamT:\n\u001b[0;32m   1184\u001b[0m     \u001b[38;5;241m.\u001b[39m\u001b[38;5;241m.\u001b[39m\u001b[38;5;241m.\u001b[39m\n\u001b[0;32m   1186\u001b[0m \u001b[38;5;28;01mdef\u001b[39;00m \u001b[38;5;21mpost\u001b[39m(\n\u001b[0;32m   1187\u001b[0m     \u001b[38;5;28mself\u001b[39m,\n\u001b[0;32m   1188\u001b[0m     path: \u001b[38;5;28mstr\u001b[39m,\n\u001b[1;32m   (...)\u001b[0m\n\u001b[0;32m   1195\u001b[0m     stream_cls: \u001b[38;5;28mtype\u001b[39m[_StreamT] \u001b[38;5;241m|\u001b[39m \u001b[38;5;28;01mNone\u001b[39;00m \u001b[38;5;241m=\u001b[39m \u001b[38;5;28;01mNone\u001b[39;00m,\n\u001b[0;32m   1196\u001b[0m ) \u001b[38;5;241m-\u001b[39m\u001b[38;5;241m>\u001b[39m ResponseT \u001b[38;5;241m|\u001b[39m _StreamT:\n",
      "File \u001b[1;32mc:\\Users\\markovu\\AppData\\Local\\Programs\\Python\\Python311\\Lib\\site-packages\\openai\\_base_client.py:868\u001b[0m, in \u001b[0;36mrequest\u001b[1;34m(self, cast_to, options, remaining_retries, stream, stream_cls)\u001b[0m\n\u001b[0;32m    857\u001b[0m \u001b[38;5;129m@overload\u001b[39m\n\u001b[0;32m    858\u001b[0m \u001b[38;5;28;01mdef\u001b[39;00m \u001b[38;5;21mrequest\u001b[39m(\n\u001b[0;32m    859\u001b[0m     \u001b[38;5;28mself\u001b[39m,\n\u001b[1;32m   (...)\u001b[0m\n\u001b[0;32m    864\u001b[0m     stream: Literal[\u001b[38;5;28;01mFalse\u001b[39;00m] \u001b[38;5;241m=\u001b[39m \u001b[38;5;28;01mFalse\u001b[39;00m,\n\u001b[0;32m    865\u001b[0m ) \u001b[38;5;241m-\u001b[39m\u001b[38;5;241m>\u001b[39m ResponseT:\n\u001b[0;32m    866\u001b[0m     \u001b[38;5;241m.\u001b[39m\u001b[38;5;241m.\u001b[39m\u001b[38;5;241m.\u001b[39m\n\u001b[1;32m--> 868\u001b[0m \u001b[38;5;129m@overload\u001b[39m\n\u001b[0;32m    869\u001b[0m \u001b[38;5;28;01mdef\u001b[39;00m \u001b[38;5;21mrequest\u001b[39m(\n\u001b[0;32m    870\u001b[0m     \u001b[38;5;28mself\u001b[39m,\n\u001b[0;32m    871\u001b[0m     cast_to: Type[ResponseT],\n\u001b[0;32m    872\u001b[0m     options: FinalRequestOptions,\n\u001b[0;32m    873\u001b[0m     remaining_retries: Optional[\u001b[38;5;28mint\u001b[39m] \u001b[38;5;241m=\u001b[39m \u001b[38;5;28;01mNone\u001b[39;00m,\n\u001b[0;32m    874\u001b[0m     \u001b[38;5;241m*\u001b[39m,\n\u001b[0;32m    875\u001b[0m     stream: \u001b[38;5;28mbool\u001b[39m \u001b[38;5;241m=\u001b[39m \u001b[38;5;28;01mFalse\u001b[39;00m,\n\u001b[0;32m    876\u001b[0m     stream_cls: Type[_StreamT] \u001b[38;5;241m|\u001b[39m \u001b[38;5;28;01mNone\u001b[39;00m \u001b[38;5;241m=\u001b[39m \u001b[38;5;28;01mNone\u001b[39;00m,\n\u001b[0;32m    877\u001b[0m ) \u001b[38;5;241m-\u001b[39m\u001b[38;5;241m>\u001b[39m ResponseT \u001b[38;5;241m|\u001b[39m _StreamT:\n\u001b[0;32m    878\u001b[0m     \u001b[38;5;241m.\u001b[39m\u001b[38;5;241m.\u001b[39m\u001b[38;5;241m.\u001b[39m\n\u001b[0;32m    880\u001b[0m \u001b[38;5;28;01mdef\u001b[39;00m \u001b[38;5;21mrequest\u001b[39m(\n\u001b[0;32m    881\u001b[0m     \u001b[38;5;28mself\u001b[39m,\n\u001b[0;32m    882\u001b[0m     cast_to: Type[ResponseT],\n\u001b[1;32m   (...)\u001b[0m\n\u001b[0;32m    887\u001b[0m     stream_cls: \u001b[38;5;28mtype\u001b[39m[_StreamT] \u001b[38;5;241m|\u001b[39m \u001b[38;5;28;01mNone\u001b[39;00m \u001b[38;5;241m=\u001b[39m \u001b[38;5;28;01mNone\u001b[39;00m,\n\u001b[0;32m    888\u001b[0m ) \u001b[38;5;241m-\u001b[39m\u001b[38;5;241m>\u001b[39m ResponseT \u001b[38;5;241m|\u001b[39m _StreamT:\n",
      "File \u001b[1;32mc:\\Users\\markovu\\AppData\\Local\\Programs\\Python\\Python311\\Lib\\site-packages\\openai\\_base_client.py:959\u001b[0m, in \u001b[0;36m_request\u001b[1;34m(self, cast_to, options, remaining_retries, stream, stream_cls)\u001b[0m\n\u001b[0;32m    954\u001b[0m log\u001b[38;5;241m.\u001b[39mdebug(\n\u001b[0;32m    955\u001b[0m     \u001b[38;5;124m'\u001b[39m\u001b[38;5;124mHTTP Request: \u001b[39m\u001b[38;5;132;01m%s\u001b[39;00m\u001b[38;5;124m \u001b[39m\u001b[38;5;132;01m%s\u001b[39;00m\u001b[38;5;124m \u001b[39m\u001b[38;5;124m\"\u001b[39m\u001b[38;5;132;01m%i\u001b[39;00m\u001b[38;5;124m \u001b[39m\u001b[38;5;132;01m%s\u001b[39;00m\u001b[38;5;124m\"\u001b[39m\u001b[38;5;124m'\u001b[39m, request\u001b[38;5;241m.\u001b[39mmethod, request\u001b[38;5;241m.\u001b[39murl, response\u001b[38;5;241m.\u001b[39mstatus_code, response\u001b[38;5;241m.\u001b[39mreason_phrase\n\u001b[0;32m    956\u001b[0m )\n\u001b[0;32m    958\u001b[0m \u001b[38;5;28;01mtry\u001b[39;00m:\n\u001b[1;32m--> 959\u001b[0m     response\u001b[38;5;241m.\u001b[39mraise_for_status()\n\u001b[0;32m    960\u001b[0m \u001b[38;5;28;01mexcept\u001b[39;00m httpx\u001b[38;5;241m.\u001b[39mHTTPStatusError \u001b[38;5;28;01mas\u001b[39;00m err:  \u001b[38;5;66;03m# thrown on 4xx and 5xx status code\u001b[39;00m\n\u001b[0;32m    961\u001b[0m     log\u001b[38;5;241m.\u001b[39mdebug(\u001b[38;5;124m\"\u001b[39m\u001b[38;5;124mEncountered httpx.HTTPStatusError\u001b[39m\u001b[38;5;124m\"\u001b[39m, exc_info\u001b[38;5;241m=\u001b[39m\u001b[38;5;28;01mTrue\u001b[39;00m)\n",
      "\u001b[1;31mBadRequestError\u001b[0m: Error code: 400 - {'error': {'type': 'invalid_request_error', 'param': 'model', 'code': 'model_not_found'}}"
     ]
    }
   ],
   "source": [
    "\n",
    "\n",
    "# upload the HR policy and get the file id\n",
    "# this would be used if retrieval was supported\n",
    "# just shown here for completeness\n",
    "hr_policy_file = client.files.create(\n",
    "    file=open('Extraordinary leave.pdf', 'rb'),\n",
    "    purpose='assistants'\n",
    ")\n",
    "\n",
    "# load assistant ID from assistant_id.txt\n",
    "# delete that file before running this code to create a new assistant\n",
    "try:\n",
    "    with open('assistant_id.txt', 'r') as f:\n",
    "        assistant_id = f.read()\n",
    "except FileNotFoundError:\n",
    "    print(\"The file 'assistant_id.txt' does not exist.\")\n",
    "    assistant_id = None\n",
    "\n",
    "print('Assistant ID:', assistant_id)\n",
    "\n",
    "if assistant_id is None:\n",
    "    # Create a new assistant\n",
    "    assistant = client.beta.assistants.create(\n",
    "        name=\"HR Assistant\",\n",
    "        instructions=\"\"\"You are an HR Assistant for the company Innovatek.\n",
    "        You answer questions about HR policy from the the hr_query function you have access to. hr_query only answers\n",
    "        questions realted to the HR policy of Innovatek. When you get an answer, check the metadata and return document paths or urls\n",
    "        that were used as the source of the answer.\n",
    "        Users can ask for a raise. If they do, so call the function `request_raise` with the amount they are asking for.\n",
    "        If you do not know the employee before asking a raise, ask the user for their name.\n",
    "        \"\"\",\n",
    "        tools=[{ \n",
    "            \"function\": {\n",
    "                \"name\": \"request_raise\",\n",
    "                \"description\": \"Request a raise for an employee\",\n",
    "                \"parameters\": {\n",
    "                \"type\": \"object\",\n",
    "                \"properties\": {\n",
    "                    \"employee\": {\n",
    "                        \"type\": \"string\",\n",
    "                        \"description\": \"Name of the employee. Ask the user if you do not know.\"\n",
    "                        },\n",
    "                    \"amount\": {\n",
    "                        \"type\": \"integer\",\n",
    "                        \"description\": \"The raise amount, not the new salary\"\n",
    "                        }\n",
    "                },\n",
    "                \"required\": [\n",
    "                    \"employee\",\n",
    "                    \"amount\"\n",
    "                ]\n",
    "                }\n",
    "            },\n",
    "            \"type\": \"function\"\n",
    "            },\n",
    "            { \n",
    "            \"function\": {\n",
    "                \"name\": \"hr_query\",\n",
    "                \"description\": \"Can answer HR related questions\",\n",
    "                \"parameters\": {\n",
    "                \"type\": \"object\",\n",
    "                \"properties\": {\n",
    "                    \"query\": {\n",
    "                        \"type\": \"string\",\n",
    "                        \"description\": \"HR-related question for company Innovatek\"\n",
    "                        }\n",
    "                },\n",
    "                \"required\": [\n",
    "                    \"query\"\n",
    "                ]\n",
    "                }\n",
    "            },\n",
    "            \"type\": \"function\"\n",
    "            }, \n",
    "            {\n",
    "                \"type\": \"code_interpreter\",  # should be set to retrieval but that is not supported yet; required or file_ids will throw error\n",
    "            }\n",
    "        ],\n",
    "        model=\"gpt-4-preview\", # ensure you have a deployment in the region you are using\n",
    "        file_ids=[hr_policy_file.id] # pass the file_ids, max 20\n",
    "    )\n",
    "\n",
    "    # write the assistant ID to a file\n",
    "    assistant_id = assistant.id\n",
    "    with open('assistant_id.txt', 'w') as f:\n",
    "        f.write(assistant_id)\n",
    "    print('Assistant created:', assistant_id)\n",
    "    "
   ]
  },
  {
   "cell_type": "markdown",
   "metadata": {},
   "source": [
    "## Create a thread and add a message\n",
    "\n",
    "Here we add a message with a question about the HR policy.\n",
    "\n",
    "Instead of using the retrieval tool, we hope the model will use the hr_query function to answer the question."
   ]
  },
  {
   "cell_type": "code",
   "execution_count": 87,
   "metadata": {},
   "outputs": [
    {
     "name": "stdout",
     "output_type": "stream",
     "text": [
      "Thread id:  thread_YQTew8F0sOViu0w6mVaCZVpW\n"
     ]
    }
   ],
   "source": [
    "# Create a thread\n",
    "thread = client.beta.threads.create()\n",
    "\n",
    "# Threads have an id as well\n",
    "print(\"Thread id: \", thread.id)"
   ]
  },
  {
   "cell_type": "code",
   "execution_count": 88,
   "metadata": {},
   "outputs": [
    {
     "name": "stdout",
     "output_type": "stream",
     "text": [
      "{\n",
      "  \"id\": \"run_HnZlvhxWZGk7iUtQuLvMwhSY\",\n",
      "  \"assistant_id\": \"asst_Ol9RnLsiDCD6khGtF05LarPm\",\n",
      "  \"cancelled_at\": null,\n",
      "  \"completed_at\": null,\n",
      "  \"created_at\": 1707573142,\n",
      "  \"expires_at\": 1707573742,\n",
      "  \"failed_at\": null,\n",
      "  \"file_ids\": [\n",
      "    \"assistant-91XlM4DmZkSrpJRrM0cxcfNJ\"\n",
      "  ],\n",
      "  \"instructions\": \"You are an HR Assistant for the company Innovatek.\\n        You answer questions about HR policy from the the query_hr function you have access to. query_hr only answers\\n        questions realted to the HR policy of Innovatek. When you get an answer, check the metadata and return document paths or urls\\n        that were used as the source of the answer.\\n        Users can ask for a raise. If they do, so call the function `request_raise` with the amount they are asking for.\\n        If you do not know the employee before asking a raise, ask the user for their name.\\n        \",\n",
      "  \"last_error\": null,\n",
      "  \"metadata\": {},\n",
      "  \"model\": \"gpt-4-preview\",\n",
      "  \"object\": \"thread.run\",\n",
      "  \"required_action\": {\n",
      "    \"submit_tool_outputs\": {\n",
      "      \"tool_calls\": [\n",
      "        {\n",
      "          \"id\": \"call_wCZWDXsUkC0dDBGAGhkRZC1u\",\n",
      "          \"function\": {\n",
      "            \"arguments\": \"{\\\"query\\\":\\\"What company cars are available for employees?\\\"}\",\n",
      "            \"name\": \"hr_query\"\n",
      "          },\n",
      "          \"type\": \"function\"\n",
      "        }\n",
      "      ]\n",
      "    },\n",
      "    \"type\": \"submit_tool_outputs\"\n",
      "  },\n",
      "  \"started_at\": 1707573143,\n",
      "  \"status\": \"requires_action\",\n",
      "  \"thread_id\": \"thread_YQTew8F0sOViu0w6mVaCZVpW\",\n",
      "  \"tools\": [\n",
      "    {\n",
      "      \"function\": {\n",
      "        \"name\": \"request_raise\",\n",
      "        \"description\": \"Request a raise for an employee\",\n",
      "        \"parameters\": {\n",
      "          \"type\": \"object\",\n",
      "          \"properties\": {\n",
      "            \"employee\": {\n",
      "              \"type\": \"string\",\n",
      "              \"description\": \"Name of the employee. Ask the user if you do not know.\"\n",
      "            },\n",
      "            \"amount\": {\n",
      "              \"type\": \"integer\",\n",
      "              \"description\": \"The raise amount, not the new salary\"\n",
      "            }\n",
      "          },\n",
      "          \"required\": [\n",
      "            \"employee\",\n",
      "            \"amount\"\n",
      "          ]\n",
      "        }\n",
      "      },\n",
      "      \"type\": \"function\"\n",
      "    },\n",
      "    {\n",
      "      \"function\": {\n",
      "        \"name\": \"hr_query\",\n",
      "        \"description\": \"Can answer HR related questions\",\n",
      "        \"parameters\": {\n",
      "          \"type\": \"object\",\n",
      "          \"properties\": {\n",
      "            \"query\": {\n",
      "              \"type\": \"string\",\n",
      "              \"description\": \"HR-related question for company Innovatek\"\n",
      "            }\n",
      "          },\n",
      "          \"required\": [\n",
      "            \"query\"\n",
      "          ]\n",
      "        }\n",
      "      },\n",
      "      \"type\": \"function\"\n",
      "    },\n",
      "    {\n",
      "      \"type\": \"code_interpreter\"\n",
      "    }\n",
      "  ]\n",
      "}\n"
     ]
    }
   ],
   "source": [
    "\n",
    "# you can come back to this cell to ask more questions in the thread\n",
    "# simply change the message and run the cell\n",
    "# to start a new thread, run the cell above\n",
    "\n",
    "import time\n",
    "from IPython.display import clear_output\n",
    "\n",
    "# function returns the run when status is no longer queued or in_progress\n",
    "def wait_for_run(run, thread_id):\n",
    "    while run.status == 'queued' or run.status == 'in_progress':\n",
    "        run = client.beta.threads.runs.retrieve(\n",
    "                thread_id=thread_id,\n",
    "                run_id=run.id\n",
    "        )\n",
    "        time.sleep(0.5)\n",
    "\n",
    "    return run\n",
    "\n",
    "\n",
    "# create a message\n",
    "message = client.beta.threads.messages.create(\n",
    "    thread_id=thread.id,\n",
    "    role=\"user\",\n",
    "    content=\"What company cars can I get?\"\n",
    ")\n",
    "\n",
    "# create a run \n",
    "run = client.beta.threads.runs.create(\n",
    "    thread_id=thread.id,\n",
    "    assistant_id=assistant_id, # use the assistant id defined in the first cell\n",
    "    # tools=[{\"type\": \"retrieval\"}] # using the retrieval tool is not supported at run level either\n",
    ")\n",
    "\n",
    "# wait for the run to complete\n",
    "run = wait_for_run(run, thread.id)\n",
    "\n",
    "# show information about the run\n",
    "# should indicate that run status is requires_action\n",
    "# should contain information about the tools to call\n",
    "print(run.model_dump_json(indent=2))"
   ]
  },
  {
   "cell_type": "markdown",
   "metadata": {},
   "source": [
    "## Check if we need to run a function\n",
    "\n",
    "Note that when you ask for a raise, the model will ask for your name. Use the cell where you add a message to add your name and run that cell and the next ones."
   ]
  },
  {
   "cell_type": "code",
   "execution_count": 89,
   "metadata": {},
   "outputs": [
    {
     "name": "stderr",
     "output_type": "stream",
     "text": [
      "Warning: model not found. Using cl100k_base encoding.\n"
     ]
    },
    {
     "name": "stdout",
     "output_type": "stream",
     "text": [
      "Tool calls: [RequiredActionFunctionToolCall(id='call_wCZWDXsUkC0dDBGAGhkRZC1u', function=Function(arguments='{\"query\":\"What company cars are available for employees?\"}', name='hr_query'), type='function')]\n",
      "Tool outputs submitted\n"
     ]
    }
   ],
   "source": [
    "if run.required_action:\n",
    "    # get tool calls and print them\n",
    "    # check the output to see what tools_calls contains\n",
    "    tool_calls = run.required_action.submit_tool_outputs.tool_calls\n",
    "    print(\"Tool calls:\", tool_calls)\n",
    "\n",
    "    # we might need to call multiple tools\n",
    "    # the assistant API supports parallel tool calls\n",
    "    # we account for this here although we only have one tool call\n",
    "    tool_outputs = []\n",
    "    for tool_call in tool_calls:\n",
    "        func_name = tool_call.function.name\n",
    "        arguments = json.loads(tool_call.function.arguments)\n",
    "\n",
    "        # call the function with the arguments provided by the assistant\n",
    "        if func_name == \"hr_query\":\n",
    "            result = hr_query(**arguments)\n",
    "        elif func_name == \"request_raise\":\n",
    "            result = \"Request sumbitted. It will take two weeks to review.\"\n",
    "\n",
    "        # append the results to the tool_outputs list\n",
    "        # you need to specify the tool_call_id so the assistant knows which tool call the output belongs to\n",
    "        tool_outputs.append({\n",
    "            \"tool_call_id\": tool_call.id,\n",
    "            \"output\": json.dumps(result)\n",
    "        })\n",
    "\n",
    "    # now that we have the tool call outputs, pass them to the assistant\n",
    "    run = client.beta.threads.runs.submit_tool_outputs(\n",
    "        thread_id=thread.id,\n",
    "        run_id=run.id,\n",
    "        tool_outputs=tool_outputs\n",
    "    )\n",
    "\n",
    "    print(\"Tool outputs submitted\")\n",
    "\n",
    "    # now we wait for the run again\n",
    "    run = wait_for_run(run, thread.id)\n",
    "else:\n",
    "    print(\"No tool calls identified\\n\")"
   ]
  },
  {
   "cell_type": "markdown",
   "metadata": {},
   "source": [
    "## Pretty print the thread messages\n",
    "\n",
    "In reverse order to start from the first question."
   ]
  },
  {
   "cell_type": "code",
   "execution_count": 90,
   "metadata": {},
   "outputs": [
    {
     "name": "stdout",
     "output_type": "stream",
     "text": [
      "👤 What company cars can I get? \n",
      "\n",
      "🤖 The company cars available for Innovatek employees are:\n",
      "\n",
      "- Tesla Model 3\n",
      "- Tesla Model S\n",
      "- BMW i4\n",
      "- BMW i5\n",
      "\n",
      "Gasoline or diesel cars are not allowed as company cars.\n",
      "\n",
      "The source of this information is found in the Innovatek HR Policy document. The relevant document path is `./Innovatek.pdf`. \n",
      "\n"
     ]
    }
   ],
   "source": [
    "import json\n",
    "\n",
    "messages = client.beta.threads.messages.list(thread_id=thread.id)\n",
    "messages_json = json.loads(messages.model_dump_json())\n",
    "\n",
    "def role_icon(role):\n",
    "    if role == \"user\":\n",
    "        return \"👤\"\n",
    "    elif role == \"assistant\":\n",
    "        return \"🤖\"\n",
    "\n",
    "for item in reversed(messages_json['data']):\n",
    "    # Check the content array\n",
    "    for content in reversed(item['content']):\n",
    "        # If there is text in the content array, print it\n",
    "        if 'text' in content:\n",
    "            print(role_icon(item[\"role\"]),content['text']['value'], \"\\n\")\n",
    "        # If there is an image_file in the content, print the file_id\n",
    "        if 'image_file' in content:\n",
    "            print(\"Image ID:\" , content['image_file']['file_id'], \"\\n\")"
   ]
  }
 ],
 "metadata": {
  "kernelspec": {
   "display_name": "Python 3",
   "language": "python",
   "name": "python3"
  },
  "language_info": {
   "codemirror_mode": {
    "name": "ipython",
    "version": 3
   },
   "file_extension": ".py",
   "mimetype": "text/x-python",
   "name": "python",
   "nbconvert_exporter": "python",
   "pygments_lexer": "ipython3",
   "version": "3.11.5"
  }
 },
 "nbformat": 4,
 "nbformat_minor": 2
}
