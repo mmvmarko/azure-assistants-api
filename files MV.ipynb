{
 "cells": [
  {
   "cell_type": "markdown",
   "metadata": {},
   "source": [
    "# Create assistant with access to files and a function\n",
    "\n",
    "This assistant is supposed to answer questions about the HR policy on Extraordinary leave. It has access to the following files:\n",
    "\n",
    "- \"Extraordinary leave.pdf\"\n",
    "\n",
    "There is also a function that allows an employee to request a raise.\n",
    "\n",
    "**Note**: in the OpenAI Assistants API (in general, available at OpenAI today in beta as well), you can upload files and enable the **retrieval** tool like so:\n",
    "\n",
    "```python\n",
    "assistant = client.beta.assistants.create(\n",
    "  instructions=\"You are a customer support chatbot. Use your knowledge base to best respond to customer queries.\",\n",
    "  model=\"gpt-4-turbo-preview\",\n",
    "  tools=[{\"type\": \"retrieval\"}]\n",
    ")\n",
    "```\n",
    "\n",
    "You would also upload files and pass the file ids here but that is not shown.\n",
    "\n",
    "Currently though (Feb 2024), the Azure OpenAI Assistants API does not allow you to configure the `retrieval` tool. You can only enable the `code_interpreter` tool. The `code_interpreter` tool might be able to open your documents and read them, but it's not as powerful as the retrieval tool. It basically has to use Python code to read the file and then answer questions about it.\n",
    "\n",
    "Instead of using the `retrieval` tool, we will use an in memory vector store instead with the help of Chroma, LangChain and Azure OpenAI Embeddings.\n",
    "\n",
    "You will need the following packages:\n",
    "- openai\n",
    "- langchain\n",
    "- chroma\n",
    "- dotenv\n",
    "- PyPDF2"
   ]
  },
  {
   "cell_type": "code",
   "execution_count": 18,
   "metadata": {},
   "outputs": [],
   "source": [
    "import os\n",
    "from dotenv import load_dotenv\n",
    "from openai import AzureOpenAI\n",
    "\n",
    "# Load environment variables from .env file\n",
    "# AZURE_OPENAI_API_KEY\n",
    "# AZURE_OPENAI_ENDPOINT\n",
    "# AZURE_OPENAI_API_VERSION\n",
    "load_dotenv()\n",
    "\n",
    "# Create Azure OpenAI client\n",
    "client = AzureOpenAI(\n",
    "    api_key=os.getenv('AZURE_OPENAI_API_KEY'),\n",
    "    azure_endpoint=os.getenv('AZURE_OPENAI_ENDPOINT'),\n",
    "    api_version=os.getenv('AZURE_OPENAI_API_VERSION')\n",
    ")\n",
    "\n"
   ]
  },
  {
   "cell_type": "markdown",
   "metadata": {},
   "source": [
    "## Use Chroma in-memory vector store\n",
    "\n",
    "Below we read a PDF and convert it to text. The text is split into smaller pieces and then handed to Croma to store these pieces + a vector + metadata (file, page number)\n",
    "\n",
    "We then do a similarity search to test if we get results from Chroma."
   ]
  },
  {
   "cell_type": "code",
   "execution_count": 19,
   "metadata": {},
   "outputs": [
    {
     "name": "stdout",
     "output_type": "stream",
     "text": [
      "[Document(page_content='For additional information contact HR: CTG.HR@comtradegaming.comHow to report \\nan extraordinary leave?\\nExtraordinary leave represents absence due to infrequent events such as:\\n• employee’s or their child’s wedding,\\n• birth of a child,\\n• death of a close family member, \\n• employee’s or their family’s move,\\n• blood donor session.\\nIn case one of those events happen, you should inform your Project manager and Team \\nmanager and register your absence in Daily report. In some instances *, HR department will \\nneed adequate evidence for approvement of your request. This kind of absence must be used at the time of the event and is not transferable. You can ﬁnd detailed explanation in the relevant rule book.', metadata={'source': './Extraordinary leave.pdf', 'page': 0}), Document(page_content='*Note: Blood donor session, natural disaster, move, or in case the employee must perform their civic duties, if they are summoned to appear in court or other public authority, or if they are required to carry out their parliamentary duties at national or local level. In case of private matters at court, extraordinary leave is not granted.\\nImportant: You must submit your request in Daily report until the end of the month you \\nwent on extraordinary leave. Requests and eﬀort entries lock on the ﬁrst workday of each month.', metadata={'source': './Extraordinary leave.pdf', 'page': 0}), Document(page_content='For additional information contact HR: CTG.HR@comtradegaming.com• From “Absence type” list choose “Extraordinary Events (OZDID)”.\\n• Next enter the day(s) of your absence.\\n• For extraordinary events it is mandatory to enter the reason of your absence \\nin comment section. \\nExtraordinary leave in Daily report\\n• Open the Daily report application.\\n• Click on a day(s) you plan to be/were absent or click on \\n“Create Item” button (in the right corner of the page) \\nand choose “Register Absence”.• A window will open, where you can create absence request.', metadata={'source': './Extraordinary leave.pdf', 'page': 1}), Document(page_content='When you’ve entered all the relevant information, submit your absence request to Human \\nResources Department by clicking “Submit” button. \\nwww.com tradegaming.comLegend: After HR department accepts your extraordinary leave request and adequate evidence (if applicable), day(s) of your \\nabsence will be marked green. You will also receive a conﬁrmation e-mail. \\nFor additional information contact HR: CTG.HR@comtradegaming.com', metadata={'source': './Extraordinary leave.pdf', 'page': 2})]\n",
      "4\n",
      "[Document(page_content='For additional information contact HR: CTG.HR@comtradegaming.comHow to report \\nan extraordinary leave?\\nExtraordinary leave represents absence due to infrequent events such as:\\n• employee’s or their child’s wedding,\\n• birth of a child,\\n• death of a close family member, \\n• employee’s or their family’s move,\\n• blood donor session.\\nIn case one of those events happen, you should inform your Project manager and Team \\nmanager and register your absence in Daily report. In some instances *, HR department will \\nneed adequate evidence for approvement of your request. This kind of absence must be used at the time of the event and is not transferable. You can ﬁnd detailed explanation in the relevant rule book.', metadata={'page': 0, 'source': './Extraordinary leave.pdf'}), Document(page_content='For additional information contact HR: CTG.HR@comtradegaming.comHow to report \\nan extraordinary leave?\\nExtraordinary leave represents absence due to infrequent events such as:\\n• employee’s or their child’s wedding,\\n• birth of a child,\\n• death of a close family member, \\n• employee’s or their family’s move,\\n• blood donor session.\\nIn case one of those events happen, you should inform your Project manager and Team \\nmanager and register your absence in Daily report. In some instances *, HR department will \\nneed adequate evidence for approvement of your request. This kind of absence must be used at the time of the event and is not transferable. You can ﬁnd detailed explanation in the relevant rule book.', metadata={'page': 0, 'source': './Extraordinary leave.pdf'}), Document(page_content='*Note: Blood donor session, natural disaster, move, or in case the employee must perform their civic duties, if they are summoned to appear in court or other public authority, or if they are required to carry out their parliamentary duties at national or local level. In case of private matters at court, extraordinary leave is not granted.\\nImportant: You must submit your request in Daily report until the end of the month you \\nwent on extraordinary leave. Requests and eﬀort entries lock on the ﬁrst workday of each month.', metadata={'page': 0, 'source': './Extraordinary leave.pdf'})]\n",
      "3\n"
     ]
    }
   ],
   "source": [
    "# in memory vector store with chroma (pip install chroma)\n",
    "# you also need langchain for this\n",
    "# you can ignore the warnings coming from this code\n",
    "from langchain_community.document_loaders import PyPDFLoader\n",
    "from langchain_openai import AzureOpenAIEmbeddings\n",
    "from langchain.text_splitter import RecursiveCharacterTextSplitter\n",
    "from langchain_community.vectorstores import Chroma\n",
    "\n",
    "pdf = PyPDFLoader(\"./Extraordinary leave.pdf\").load()\n",
    "text_splitter = RecursiveCharacterTextSplitter(\n",
    "    chunk_size=1000,\n",
    "    chunk_overlap=200\n",
    ")\n",
    "documents = text_splitter.split_documents(pdf)\n",
    "print(documents)\n",
    "print(len(documents))\n",
    "db = Chroma.from_documents(documents, AzureOpenAIEmbeddings(client=client, model=\"text-embedding-ada-002\", api_version=\"2023-05-15\"))\n",
    "\n",
    "# query the vector store\n",
    "query = \"Is extraordinary leave transferable?\"\n",
    "docs = db.similarity_search(query, k=3)\n",
    "print(docs)\n",
    "print(len(docs))"
   ]
  },
  {
   "cell_type": "markdown",
   "metadata": {},
   "source": [
    "## Helper function to search the HR policy\n",
    "\n",
    "The helper function does a similarity search and returns the 3 most relavant pieces on content as a JSON string. The JSON string will be the tool output that the model uses to answer a question like: \"What is the policy on vacation days?\"."
   ]
  },
  {
   "cell_type": "code",
   "execution_count": 20,
   "metadata": {},
   "outputs": [
    {
     "name": "stdout",
     "output_type": "stream",
     "text": [
      "[{\"page_content\": \"For additional information contact HR: CTG.HR@comtradegaming.comHow to report \\nan extraordinary leave?\\nExtraordinary leave represents absence due to infrequent events such as:\\n\\u2022 employee\\u2019s or their child\\u2019s wedding,\\n\\u2022 birth of a child,\\n\\u2022 death of a close family member, \\n\\u2022 employee\\u2019s or their family\\u2019s move,\\n\\u2022 blood donor session.\\nIn case one of those events happen, you should inform your Project manager and Team \\nmanager and register your absence in Daily report. In some instances *, HR department will \\nneed adequate evidence for approvement of your request. This kind of absence must be used at the time of the event and is not transferable. You can \\ufb01nd detailed explanation in the relevant rule book.\", \"metadata\": {\"page\": 0, \"source\": \"./Extraordinary leave.pdf\"}, \"type\": \"Document\"}, {\"page_content\": \"For additional information contact HR: CTG.HR@comtradegaming.comHow to report \\nan extraordinary leave?\\nExtraordinary leave represents absence due to infrequent events such as:\\n\\u2022 employee\\u2019s or their child\\u2019s wedding,\\n\\u2022 birth of a child,\\n\\u2022 death of a close family member, \\n\\u2022 employee\\u2019s or their family\\u2019s move,\\n\\u2022 blood donor session.\\nIn case one of those events happen, you should inform your Project manager and Team \\nmanager and register your absence in Daily report. In some instances *, HR department will \\nneed adequate evidence for approvement of your request. This kind of absence must be used at the time of the event and is not transferable. You can \\ufb01nd detailed explanation in the relevant rule book.\", \"metadata\": {\"page\": 0, \"source\": \"./Extraordinary leave.pdf\"}, \"type\": \"Document\"}, {\"page_content\": \"*Note: Blood donor session, natural disaster, move, or in case the employee must perform their civic duties, if they are summoned to appear in court or other public authority, or if they are required to carry out their parliamentary duties at national or local level. In case of private matters at court, extraordinary leave is not granted.\\nImportant: You must submit your request in Daily report until the end of the month you \\nwent on extraordinary leave. Requests and e\\ufb00ort entries lock on the \\ufb01rst workday of each month.\", \"metadata\": {\"page\": 0, \"source\": \"./Extraordinary leave.pdf\"}, \"type\": \"Document\"}]\n"
     ]
    }
   ],
   "source": [
    "import json\n",
    "\n",
    "# function to retrieve HR questions\n",
    "def hr_query(query):\n",
    "    docs = db.similarity_search(query, k=3)\n",
    "    docs_dict = [doc.__dict__ for doc in docs]\n",
    "    return json.dumps(docs_dict)\n",
    "\n",
    "# try the function; docs array as JSON\n",
    "print(hr_query(\"Is extraordinary leave transferable?\"))"
   ]
  },
  {
   "cell_type": "markdown",
   "metadata": {},
   "source": [
    "## Create the assistant with code\n",
    "\n",
    "Here you see how to add functions to an assistant from code. It's an array of JSON that defines custom functions or built-in tools like `code_interpreter`.\n",
    "\n",
    "We show how to upload files and add them to the assistant. As discussed earlier, we cannot enable the built-in `retrieval` tool yet."
   ]
  },
  {
   "cell_type": "code",
   "execution_count": 21,
   "metadata": {},
   "outputs": [
    {
     "name": "stdout",
     "output_type": "stream",
     "text": [
      "Assistant ID: asst_Gz1esocOrel0bLLS6QLnT4zN\n"
     ]
    }
   ],
   "source": [
    "\n",
    "\n",
    "# upload the HR policy and get the file id\n",
    "# this would be used if retrieval was supported\n",
    "# just shown here for completeness\n",
    "hr_policy_file = client.files.create(\n",
    "    file=open('Extraordinary leave.pdf', 'rb'),\n",
    "    purpose='assistants'\n",
    ")\n",
    "\n",
    "# load assistant ID from assistant_id.txt\n",
    "# delete that file before running this code to create a new assistant\n",
    "try:\n",
    "    with open('assistant_id.txt', 'r') as f:\n",
    "        assistant_id = f.read()\n",
    "except FileNotFoundError:\n",
    "    print(\"The file 'assistant_id.txt' does not exist.\")\n",
    "    assistant_id = None\n",
    "\n",
    "print('Assistant ID:', assistant_id)\n",
    "\n",
    "if assistant_id is None:\n",
    "    # Create a new assistant\n",
    "    assistant = client.beta.assistants.create(\n",
    "        name=\"HR Assistant\",\n",
    "        instructions=\"\"\"You are an HR Assistant for the company Innovatek.\n",
    "        You answer questions about HR policy from the the hr_query function you have access to. hr_query only answers\n",
    "        questions realted to the HR policy of Innovatek. When you get an answer, check the metadata and return document paths or urls\n",
    "        that were used as the source of the answer.\n",
    "        Users can ask for a raise. If they do, so call the function `request_raise` with the amount they are asking for.\n",
    "        If you do not know the employee before asking a raise, ask the user for their name.\n",
    "        \"\"\",\n",
    "        tools=[{ \n",
    "            \"function\": {\n",
    "                \"name\": \"request_raise\",\n",
    "                \"description\": \"Request a raise for an employee\",\n",
    "                \"parameters\": {\n",
    "                \"type\": \"object\",\n",
    "                \"properties\": {\n",
    "                    \"employee\": {\n",
    "                        \"type\": \"string\",\n",
    "                        \"description\": \"Name of the employee. Ask the user if you do not know.\"\n",
    "                        },\n",
    "                    \"amount\": {\n",
    "                        \"type\": \"integer\",\n",
    "                        \"description\": \"The raise amount, not the new salary\"\n",
    "                        }\n",
    "                },\n",
    "                \"required\": [\n",
    "                    \"employee\",\n",
    "                    \"amount\"\n",
    "                ]\n",
    "                }\n",
    "            },\n",
    "            \"type\": \"function\"\n",
    "            },\n",
    "            { \n",
    "            \"function\": {\n",
    "                \"name\": \"hr_query\",\n",
    "                \"description\": \"Can answer HR related questions\",\n",
    "                \"parameters\": {\n",
    "                \"type\": \"object\",\n",
    "                \"properties\": {\n",
    "                    \"query\": {\n",
    "                        \"type\": \"string\",\n",
    "                        \"description\": \"HR-related question for company Innovatek\"\n",
    "                        }\n",
    "                },\n",
    "                \"required\": [\n",
    "                    \"query\"\n",
    "                ]\n",
    "                }\n",
    "            },\n",
    "            \"type\": \"function\"\n",
    "            }, \n",
    "            {\n",
    "                \"type\": \"code_interpreter\",  # should be set to retrieval but that is not supported yet; required or file_ids will throw error\n",
    "            }\n",
    "        ],\n",
    "        model=\"gpt-4\", # ensure you have a deployment in the region you are using\n",
    "        file_ids=[hr_policy_file.id] # pass the file_ids, max 20\n",
    "    )\n",
    "\n",
    "    # write the assistant ID to a file\n",
    "    assistant_id = assistant.id\n",
    "    with open('assistant_id.txt', 'w') as f:\n",
    "        f.write(assistant_id)\n",
    "    print('Assistant created:', assistant_id)\n",
    "    "
   ]
  },
  {
   "cell_type": "markdown",
   "metadata": {},
   "source": [
    "## Create a thread and add a message\n",
    "\n",
    "Here we add a message with a question about the HR policy.\n",
    "\n",
    "Instead of using the retrieval tool, we hope the model will use the hr_query function to answer the question."
   ]
  },
  {
   "cell_type": "code",
   "execution_count": 22,
   "metadata": {},
   "outputs": [
    {
     "name": "stdout",
     "output_type": "stream",
     "text": [
      "Thread id:  thread_p1vUkS7324jhGKDzlcyr6SXw\n"
     ]
    }
   ],
   "source": [
    "# Create a thread\n",
    "thread = client.beta.threads.create()\n",
    "\n",
    "# Threads have an id as well\n",
    "print(\"Thread id: \", thread.id)"
   ]
  },
  {
   "cell_type": "code",
   "execution_count": 23,
   "metadata": {},
   "outputs": [
    {
     "name": "stdout",
     "output_type": "stream",
     "text": [
      "{\n",
      "  \"id\": \"run_HIsBz8N3kbuMLd4MvljQVQ8T\",\n",
      "  \"assistant_id\": \"asst_Gz1esocOrel0bLLS6QLnT4zN\",\n",
      "  \"cancelled_at\": null,\n",
      "  \"completed_at\": null,\n",
      "  \"created_at\": 1709908891,\n",
      "  \"expires_at\": 1709909491,\n",
      "  \"failed_at\": null,\n",
      "  \"file_ids\": [\n",
      "    \"assistant-XJjiSA0OsUTG9916YVLkDhI0\"\n",
      "  ],\n",
      "  \"instructions\": \"You are an HR Assistant for the company Innovatek.\\n        You answer questions about HR policy from the the hr_query function you have access to. hr_query only answers\\n        questions realted to the HR policy of Innovatek. When you get an answer, check the metadata and return document paths or urls\\n        that were used as the source of the answer.\\n        Users can ask for a raise. If they do, so call the function `request_raise` with the amount they are asking for.\\n        If you do not know the employee before asking a raise, ask the user for their name.\\n        \",\n",
      "  \"last_error\": null,\n",
      "  \"metadata\": {},\n",
      "  \"model\": \"gpt-4\",\n",
      "  \"object\": \"thread.run\",\n",
      "  \"required_action\": {\n",
      "    \"submit_tool_outputs\": {\n",
      "      \"tool_calls\": [\n",
      "        {\n",
      "          \"id\": \"call_GbLsUh9A0qAgAH6uaXBari7O\",\n",
      "          \"function\": {\n",
      "            \"arguments\": \"{\\n  \\\"query\\\": \\\"Is extraordinary leave transferable?\\\"\\n}\",\n",
      "            \"name\": \"hr_query\"\n",
      "          },\n",
      "          \"type\": \"function\"\n",
      "        }\n",
      "      ]\n",
      "    },\n",
      "    \"type\": \"submit_tool_outputs\"\n",
      "  },\n",
      "  \"started_at\": 1709908892,\n",
      "  \"status\": \"requires_action\",\n",
      "  \"thread_id\": \"thread_p1vUkS7324jhGKDzlcyr6SXw\",\n",
      "  \"tools\": [\n",
      "    {\n",
      "      \"function\": {\n",
      "        \"name\": \"request_raise\",\n",
      "        \"description\": \"Request a raise for an employee\",\n",
      "        \"parameters\": {\n",
      "          \"type\": \"object\",\n",
      "          \"properties\": {\n",
      "            \"employee\": {\n",
      "              \"type\": \"string\",\n",
      "              \"description\": \"Name of the employee. Ask the user if you do not know.\"\n",
      "            },\n",
      "            \"amount\": {\n",
      "              \"type\": \"integer\",\n",
      "              \"description\": \"The raise amount, not the new salary\"\n",
      "            }\n",
      "          },\n",
      "          \"required\": [\n",
      "            \"employee\",\n",
      "            \"amount\"\n",
      "          ]\n",
      "        }\n",
      "      },\n",
      "      \"type\": \"function\"\n",
      "    },\n",
      "    {\n",
      "      \"function\": {\n",
      "        \"name\": \"hr_query\",\n",
      "        \"description\": \"Can answer HR related questions\",\n",
      "        \"parameters\": {\n",
      "          \"type\": \"object\",\n",
      "          \"properties\": {\n",
      "            \"query\": {\n",
      "              \"type\": \"string\",\n",
      "              \"description\": \"HR-related question for company Innovatek\"\n",
      "            }\n",
      "          },\n",
      "          \"required\": [\n",
      "            \"query\"\n",
      "          ]\n",
      "        }\n",
      "      },\n",
      "      \"type\": \"function\"\n",
      "    },\n",
      "    {\n",
      "      \"type\": \"code_interpreter\"\n",
      "    }\n",
      "  ],\n",
      "  \"usage\": null\n",
      "}\n"
     ]
    }
   ],
   "source": [
    "\n",
    "# you can come back to this cell to ask more questions in the thread\n",
    "# simply change the message and run the cell\n",
    "# to start a new thread, run the cell above\n",
    "\n",
    "import time\n",
    "from IPython.display import clear_output\n",
    "\n",
    "# function returns the run when status is no longer queued or in_progress\n",
    "def wait_for_run(run, thread_id):\n",
    "    while run.status == 'queued' or run.status == 'in_progress':\n",
    "        run = client.beta.threads.runs.retrieve(\n",
    "                thread_id=thread_id,\n",
    "                run_id=run.id\n",
    "        )\n",
    "        time.sleep(0.5)\n",
    "\n",
    "    return run\n",
    "\n",
    "\n",
    "# create a message\n",
    "message = client.beta.threads.messages.create(\n",
    "    thread_id=thread.id,\n",
    "    role=\"user\",\n",
    "    content=\"Is extraordinary leave transferable?\"\n",
    ")\n",
    "\n",
    "# create a run \n",
    "run = client.beta.threads.runs.create(\n",
    "    thread_id=thread.id,\n",
    "    assistant_id=assistant_id, # use the assistant id defined in the first cell\n",
    "    # tools=[{\"type\": \"retrieval\"}] # using the retrieval tool is not supported at run level either\n",
    ")\n",
    "\n",
    "# wait for the run to complete\n",
    "run = wait_for_run(run, thread.id)\n",
    "\n",
    "# show information about the run\n",
    "# should indicate that run status is requires_action\n",
    "# should contain information about the tools to call\n",
    "print(run.model_dump_json(indent=2))"
   ]
  },
  {
   "cell_type": "markdown",
   "metadata": {},
   "source": [
    "## Check if we need to run a function\n",
    "\n",
    "Note that when you ask for a raise, the model will ask for your name. Use the cell where you add a message to add your name and run that cell and the next ones."
   ]
  },
  {
   "cell_type": "code",
   "execution_count": 24,
   "metadata": {},
   "outputs": [
    {
     "name": "stdout",
     "output_type": "stream",
     "text": [
      "Tool calls: [RequiredActionFunctionToolCall(id='call_GbLsUh9A0qAgAH6uaXBari7O', function=Function(arguments='{\\n  \"query\": \"Is extraordinary leave transferable?\"\\n}', name='hr_query'), type='function')]\n",
      "Tool outputs submitted\n"
     ]
    }
   ],
   "source": [
    "if run.required_action:\n",
    "    # get tool calls and print them\n",
    "    # check the output to see what tools_calls contains\n",
    "    tool_calls = run.required_action.submit_tool_outputs.tool_calls\n",
    "    print(\"Tool calls:\", tool_calls)\n",
    "\n",
    "    # we might need to call multiple tools\n",
    "    # the assistant API supports parallel tool calls\n",
    "    # we account for this here although we only have one tool call\n",
    "    tool_outputs = []\n",
    "    for tool_call in tool_calls:\n",
    "        func_name = tool_call.function.name\n",
    "        arguments = json.loads(tool_call.function.arguments)\n",
    "\n",
    "        # call the function with the arguments provided by the assistant\n",
    "        if func_name == \"hr_query\":\n",
    "            result = hr_query(**arguments)\n",
    "        elif func_name == \"request_raise\":\n",
    "            result = \"Request sumbitted. It will take two weeks to review.\"\n",
    "\n",
    "        # append the results to the tool_outputs list\n",
    "        # you need to specify the tool_call_id so the assistant knows which tool call the output belongs to\n",
    "        tool_outputs.append({\n",
    "            \"tool_call_id\": tool_call.id,\n",
    "            \"output\": json.dumps(result)\n",
    "        })\n",
    "\n",
    "    # now that we have the tool call outputs, pass them to the assistant\n",
    "    run = client.beta.threads.runs.submit_tool_outputs(\n",
    "        thread_id=thread.id,\n",
    "        run_id=run.id,\n",
    "        tool_outputs=tool_outputs\n",
    "    )\n",
    "\n",
    "    print(\"Tool outputs submitted\")\n",
    "\n",
    "    # now we wait for the run again\n",
    "    run = wait_for_run(run, thread.id)\n",
    "else:\n",
    "    print(\"No tool calls identified\\n\")"
   ]
  },
  {
   "cell_type": "markdown",
   "metadata": {},
   "source": [
    "## Pretty print the thread messages\n",
    "\n",
    "In reverse order to start from the first question."
   ]
  },
  {
   "cell_type": "code",
   "execution_count": 25,
   "metadata": {},
   "outputs": [
    {
     "name": "stdout",
     "output_type": "stream",
     "text": [
      "👤 Is extraordinary leave transferable? \n",
      "\n",
      "🤖 Extraordinary leave is not transferable. It represents absence due to infrequent events such as an employee's or their child's wedding, birth of a child, death of a close family member, employee's or their family's move, or blood donor session. This kind of absence must be used at the time of the event. For more details, kindly consult the relevant rule book.\n",
      "\n",
      "The source for this information is the following document: `./Extraordinary leave.pdf`. \n",
      "\n"
     ]
    }
   ],
   "source": [
    "import json\n",
    "\n",
    "messages = client.beta.threads.messages.list(thread_id=thread.id)\n",
    "messages_json = json.loads(messages.model_dump_json())\n",
    "\n",
    "def role_icon(role):\n",
    "    if role == \"user\":\n",
    "        return \"👤\"\n",
    "    elif role == \"assistant\":\n",
    "        return \"🤖\"\n",
    "\n",
    "for item in reversed(messages_json['data']):\n",
    "    # Check the content array\n",
    "    for content in reversed(item['content']):\n",
    "        # If there is text in the content array, print it\n",
    "        if 'text' in content:\n",
    "            print(role_icon(item[\"role\"]),content['text']['value'], \"\\n\")\n",
    "        # If there is an image_file in the content, print the file_id\n",
    "        if 'image_file' in content:\n",
    "            print(\"Image ID:\" , content['image_file']['file_id'], \"\\n\")"
   ]
  }
 ],
 "metadata": {
  "kernelspec": {
   "display_name": "Python 3",
   "language": "python",
   "name": "python3"
  },
  "language_info": {
   "codemirror_mode": {
    "name": "ipython",
    "version": 3
   },
   "file_extension": ".py",
   "mimetype": "text/x-python",
   "name": "python",
   "nbconvert_exporter": "python",
   "pygments_lexer": "ipython3",
   "version": "3.11.5"
  }
 },
 "nbformat": 4,
 "nbformat_minor": 2
}
