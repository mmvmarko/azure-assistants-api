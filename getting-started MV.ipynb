{
 "cells": [
  {
   "cell_type": "markdown",
   "metadata": {},
   "source": [
    "# Getting Started with the Assistants API\n",
    "\n",
    "During the public preview, the Assistants API is not available everywhere. Check https://learn.microsoft.com/en-us/azure/ai-services/openai/concepts/models#assistants-preview. I will use Sweden Central.\n",
    "\n",
    "The API version to use in Azure is 2024-02-15-preview\n",
    "\n",
    "Let's start creating an Azure OpenAI client...\n"
   ]
  },
  {
   "cell_type": "code",
   "execution_count": 2,
   "metadata": {},
   "outputs": [],
   "source": [
    "import os\n",
    "from dotenv import load_dotenv\n",
    "from openai import AzureOpenAI\n",
    "\n",
    "# Load environment variables from .env file\n",
    "# AZURE_OPENAI_API_KEY\n",
    "# AZURE_OPENAI_ENDPOINT\n",
    "# AZURE_OPENAI_API_VERSION\n",
    "load_dotenv()\n",
    "\n",
    "# Create Azure OpenAI client\n",
    "client = AzureOpenAI(\n",
    "    api_key=os.getenv('AZURE_OPENAI_API_KEY'),\n",
    "    azure_endpoint=os.getenv('AZURE_OPENAI_ENDPOINT'),\n",
    "    api_version=os.getenv('AZURE_OPENAI_API_VERSION')\n",
    ")\n"
   ]
  },
  {
   "cell_type": "markdown",
   "metadata": {},
   "source": [
    "## Creating the assistant"
   ]
  },
  {
   "cell_type": "code",
   "execution_count": 3,
   "metadata": {},
   "outputs": [
    {
     "name": "stdout",
     "output_type": "stream",
     "text": [
      "{\n",
      "  \"id\": \"asst_RfNCuH5lPP2J2avokY426ojm\",\n",
      "  \"created_at\": 1708975265,\n",
      "  \"description\": null,\n",
      "  \"file_ids\": [],\n",
      "  \"instructions\": \"You are a math tutor that helps users solve math problems. \\n    You have access to a sandboxed environment for writing and testing code. \\n    Explain to the user why you used the code and how it works\\n    \",\n",
      "  \"metadata\": {},\n",
      "  \"model\": \"gpt-4-8k\",\n",
      "  \"name\": \"Math Tutor\",\n",
      "  \"object\": \"assistant\",\n",
      "  \"tools\": [\n",
      "    {\n",
      "      \"type\": \"code_interpreter\"\n",
      "    }\n",
      "  ]\n",
      "}\n"
     ]
    }
   ],
   "source": [
    "assistant = client.beta.assistants.create(\n",
    "    name=\"Math Tutor\",\n",
    "    instructions=\"\"\"You are a math tutor that helps users solve math problems. \n",
    "    You have access to a sandboxed environment for writing and testing code. \n",
    "    Explain to the user why you used the code and how it works\n",
    "    \"\"\",\n",
    "    tools=[{\"type\": \"code_interpreter\"}],\n",
    "    model=\"gpt-4-8k\" # ensure you have a deployment in the region you are using\n",
    ")\n",
    "\n",
    "# display information about the assistant\n",
    "print(assistant.model_dump_json(indent=2))\n"
   ]
  },
  {
   "cell_type": "markdown",
   "metadata": {},
   "source": [
    "Above, you can see an assistant has a unique ID. For some reason, you don't see this ID in the Azure OpenAI Playground. With OpenAI, the assistants you create are shown in their portal.\n",
    "\n",
    "## Creating a thread\n",
    "\n",
    "Now we can create a thread. A thread is **not linked** to the assistant at creation time"
   ]
  },
  {
   "cell_type": "code",
   "execution_count": 4,
   "metadata": {},
   "outputs": [
    {
     "name": "stdout",
     "output_type": "stream",
     "text": [
      "Thread id:  thread_8QN91zMiuoQc2kprM5RAgJOA\n"
     ]
    }
   ],
   "source": [
    "# Create a thread\n",
    "thread = client.beta.threads.create()\n",
    "\n",
    "# Threads have an id as well\n",
    "print(\"Thread id: \", thread.id)"
   ]
  },
  {
   "cell_type": "markdown",
   "metadata": {},
   "source": [
    "## Adding a user question\n",
    "\n",
    "Now we can add a user question to the thread via a **message**. The message is put on the thread via its ID.\n",
    "\n",
    "After adding the message, we get the messages from the tread and dump them. Every message has an ID and content. The type of content we add is just text and comes from a user (role=user)."
   ]
  },
  {
   "cell_type": "code",
   "execution_count": 5,
   "metadata": {},
   "outputs": [
    {
     "name": "stdout",
     "output_type": "stream",
     "text": [
      "{\n",
      "  \"data\": [\n",
      "    {\n",
      "      \"id\": \"msg_CDnCXKwH0a4kM7pUx0c1DTc1\",\n",
      "      \"assistant_id\": null,\n",
      "      \"content\": [\n",
      "        {\n",
      "          \"text\": {\n",
      "            \"annotations\": [],\n",
      "            \"value\": \"Solve the equation y = x^2 + 3 for x = 3 and plot the function graph.\"\n",
      "          },\n",
      "          \"type\": \"text\"\n",
      "        }\n",
      "      ],\n",
      "      \"created_at\": 1708975280,\n",
      "      \"file_ids\": [],\n",
      "      \"metadata\": {},\n",
      "      \"object\": \"thread.message\",\n",
      "      \"role\": \"user\",\n",
      "      \"run_id\": null,\n",
      "      \"thread_id\": \"thread_8QN91zMiuoQc2kprM5RAgJOA\"\n",
      "    }\n",
      "  ],\n",
      "  \"object\": \"list\",\n",
      "  \"first_id\": \"msg_CDnCXKwH0a4kM7pUx0c1DTc1\",\n",
      "  \"last_id\": \"msg_CDnCXKwH0a4kM7pUx0c1DTc1\",\n",
      "  \"has_more\": false\n",
      "}\n"
     ]
    }
   ],
   "source": [
    "# Add a user question to the thread\n",
    "message = client.beta.threads.messages.create(\n",
    "    thread_id=thread.id,\n",
    "    role=\"user\",\n",
    "    content=\"Solve the equation y = x^2 + 3 for x = 3 and plot the function graph.\"\n",
    ")\n",
    "\n",
    "# Show the messages\n",
    "thread_messages = client.beta.threads.messages.list(thread.id)\n",
    "print(thread_messages.model_dump_json(indent=2))"
   ]
  },
  {
   "cell_type": "markdown",
   "metadata": {},
   "source": [
    "## Running a thread\n",
    "\n",
    "Adding a message to a thread does not do much. To get a response from the assistant's model, we need to run the thread.\n",
    "\n",
    "When you run the thread, you can provide extra instructions via the `instructions` parameter. We do not do that below.\n",
    "\n",
    "A thread is run asychronously. We need to check the run status to see if it is done. After you run the cell below, keep running the cell under it until the status is `completed`. When it is not completed, the status is `in_progress`.\n",
    "\n",
    "Other statuses: cancelled, expired, failed"
   ]
  },
  {
   "cell_type": "code",
   "execution_count": 6,
   "metadata": {},
   "outputs": [],
   "source": [
    "run = client.beta.threads.runs.create(\n",
    "  thread_id=thread.id,\n",
    "  assistant_id=assistant.id\n",
    ")"
   ]
  },
  {
   "cell_type": "code",
   "execution_count": 9,
   "metadata": {},
   "outputs": [
    {
     "name": "stdout",
     "output_type": "stream",
     "text": [
      "completed\n"
     ]
    }
   ],
   "source": [
    "# run this until the run is completed\n",
    "# it can take a while before the run is completed\n",
    "# POZOR: in a real application, create a loop that waits for the run to complete !!!\n",
    "run = client.beta.threads.runs.retrieve(\n",
    "  thread_id=thread.id,\n",
    "  run_id=run.id\n",
    ")\n",
    "\n",
    "status = run.status\n",
    "print(status)"
   ]
  },
  {
   "cell_type": "markdown",
   "metadata": {},
   "source": [
    "## Result of the run\n",
    "\n",
    "To see what happened, we have to check the messages of the thread. The user message will be at the bottom. There should be a message with role=assistant. This is the response from the assistant's model. The message has a `content` field with the response. There can be multiple types of responses, for instance text and image."
   ]
  },
  {
   "cell_type": "code",
   "execution_count": 10,
   "metadata": {},
   "outputs": [
    {
     "name": "stdout",
     "output_type": "stream",
     "text": [
      "{\n",
      "  \"data\": [\n",
      "    {\n",
      "      \"id\": \"msg_XFeAzZYnPVaQAMs2mJr7sfwI\",\n",
      "      \"assistant_id\": \"asst_RfNCuH5lPP2J2avokY426ojm\",\n",
      "      \"content\": [\n",
      "        {\n",
      "          \"image_file\": {\n",
      "            \"file_id\": \"assistant-TPSg9L3q0iyYMmanjQhAzzNJ\"\n",
      "          },\n",
      "          \"type\": \"image_file\"\n",
      "        },\n",
      "        {\n",
      "          \"text\": {\n",
      "            \"annotations\": [],\n",
      "            \"value\": \"The value of y for x=3 in the equation y = x^2 + 3 is 12. This point is marked in red on the graph. \\n\\nThe graph displays the function y = x^2 + 3. You can see that the function describes a parabola that opens upward, with a minimum point at y=3 when x=0. This is typical for functions of the form y = x^2 + constant, and in this case, the constant is 3. \\n\\nThis graph gives a visual representation of all the possible (x, y) pairs that satisfy the equation. For any given value of x, you can find the corresponding value of y by locating the point on the graph vertically above or below x on the x-axis. Similarly, for any given value of y, you can find the corresponding x values by locating the points on the graph that are horizontally left or right from y on the y-axis. \\n\\nFor example, in the case where x=3, you can see from the plot that y=12, which is the same result we got by calculation.\"\n",
      "          },\n",
      "          \"type\": \"text\"\n",
      "        }\n",
      "      ],\n",
      "      \"created_at\": 1708975311,\n",
      "      \"file_ids\": [],\n",
      "      \"metadata\": {},\n",
      "      \"object\": \"thread.message\",\n",
      "      \"role\": \"assistant\",\n",
      "      \"run_id\": \"run_qOk6kBFV8PtSqPNiK2o6YIAe\",\n",
      "      \"thread_id\": \"thread_8QN91zMiuoQc2kprM5RAgJOA\"\n",
      "    },\n",
      "    {\n",
      "      \"id\": \"msg_Umq7onembze1KMN6n0cjtaK0\",\n",
      "      \"assistant_id\": \"asst_RfNCuH5lPP2J2avokY426ojm\",\n",
      "      \"content\": [\n",
      "        {\n",
      "          \"text\": {\n",
      "            \"annotations\": [],\n",
      "            \"value\": \"Sure, to solve the equation for a specific x value we simply substitute x with the given value and perform the calculation. \\n\\nIn this case, we would substitute x with 3 in the equation \\\"y = x^2 + 3\\\".\\n\\nFor the second part of your request, to plot this function we need to create a range of x values and then use the equation to calculate the associated y values. We can then use these values to create a graph.\\n\\nLet me do that for you.\"\n",
      "          },\n",
      "          \"type\": \"text\"\n",
      "        }\n",
      "      ],\n",
      "      \"created_at\": 1708975287,\n",
      "      \"file_ids\": [],\n",
      "      \"metadata\": {},\n",
      "      \"object\": \"thread.message\",\n",
      "      \"role\": \"assistant\",\n",
      "      \"run_id\": \"run_qOk6kBFV8PtSqPNiK2o6YIAe\",\n",
      "      \"thread_id\": \"thread_8QN91zMiuoQc2kprM5RAgJOA\"\n",
      "    },\n",
      "    {\n",
      "      \"id\": \"msg_CDnCXKwH0a4kM7pUx0c1DTc1\",\n",
      "      \"assistant_id\": null,\n",
      "      \"content\": [\n",
      "        {\n",
      "          \"text\": {\n",
      "            \"annotations\": [],\n",
      "            \"value\": \"Solve the equation y = x^2 + 3 for x = 3 and plot the function graph.\"\n",
      "          },\n",
      "          \"type\": \"text\"\n",
      "        }\n",
      "      ],\n",
      "      \"created_at\": 1708975280,\n",
      "      \"file_ids\": [],\n",
      "      \"metadata\": {},\n",
      "      \"object\": \"thread.message\",\n",
      "      \"role\": \"user\",\n",
      "      \"run_id\": null,\n",
      "      \"thread_id\": \"thread_8QN91zMiuoQc2kprM5RAgJOA\"\n",
      "    }\n",
      "  ],\n",
      "  \"object\": \"list\",\n",
      "  \"first_id\": \"msg_XFeAzZYnPVaQAMs2mJr7sfwI\",\n",
      "  \"last_id\": \"msg_CDnCXKwH0a4kM7pUx0c1DTc1\",\n",
      "  \"has_more\": false\n",
      "}\n"
     ]
    }
   ],
   "source": [
    "# dump the messages on the thread again\n",
    "messages = client.beta.threads.messages.list(\n",
    "  thread_id=thread.id\n",
    ")\n",
    "\n",
    "print(messages.model_dump_json(indent=2))"
   ]
  },
  {
   "cell_type": "markdown",
   "metadata": {},
   "source": [
    "## Showing the response\n",
    "\n",
    "We can show all messages in the array in reverse order to start from the beginning. Depending on the content (text, image) we can do something with it.\n",
    "\n",
    "For now just print the text or file_id if there is one"
   ]
  },
  {
   "cell_type": "code",
   "execution_count": 11,
   "metadata": {},
   "outputs": [
    {
     "name": "stdout",
     "output_type": "stream",
     "text": [
      "Solve the equation y = x^2 + 3 for x = 3 and plot the function graph. \n",
      "\n",
      "Sure, to solve the equation for a specific x value we simply substitute x with the given value and perform the calculation. \n",
      "\n",
      "In this case, we would substitute x with 3 in the equation \"y = x^2 + 3\".\n",
      "\n",
      "For the second part of your request, to plot this function we need to create a range of x values and then use the equation to calculate the associated y values. We can then use these values to create a graph.\n",
      "\n",
      "Let me do that for you. \n",
      "\n",
      "The value of y for x=3 in the equation y = x^2 + 3 is 12. This point is marked in red on the graph. \n",
      "\n",
      "The graph displays the function y = x^2 + 3. You can see that the function describes a parabola that opens upward, with a minimum point at y=3 when x=0. This is typical for functions of the form y = x^2 + constant, and in this case, the constant is 3. \n",
      "\n",
      "This graph gives a visual representation of all the possible (x, y) pairs that satisfy the equation. For any given value of x, you can find the corresponding value of y by locating the point on the graph vertically above or below x on the x-axis. Similarly, for any given value of y, you can find the corresponding x values by locating the points on the graph that are horizontally left or right from y on the y-axis. \n",
      "\n",
      "For example, in the case where x=3, you can see from the plot that y=12, which is the same result we got by calculation. \n",
      "\n",
      "Image ID: assistant-TPSg9L3q0iyYMmanjQhAzzNJ \n",
      "\n"
     ]
    }
   ],
   "source": [
    "import json\n",
    "\n",
    "messages_json = json.loads(messages.model_dump_json())\n",
    "\n",
    "for item in reversed(messages_json['data']):\n",
    "    # Check the content array\n",
    "    for content in reversed(item['content']):\n",
    "        # If there is text in the content array, print it\n",
    "        if 'text' in content:\n",
    "            print(content['text']['value'], \"\\n\")\n",
    "        # If there is an image_file in the content, print the file_id\n",
    "        if 'image_file' in content:\n",
    "            print(\"Image ID:\" , content['image_file']['file_id'], \"\\n\")"
   ]
  },
  {
   "cell_type": "markdown",
   "metadata": {},
   "source": [
    "## Retrieving the image file\n",
    "\n",
    "Same code as above but show the image with PIL and IPython.display"
   ]
  },
  {
   "cell_type": "code",
   "execution_count": 12,
   "metadata": {},
   "outputs": [
    {
     "name": "stdout",
     "output_type": "stream",
     "text": [
      "Solve the equation y = x^2 + 3 for x = 3 and plot the function graph. \n",
      "\n",
      "Sure, to solve the equation for a specific x value we simply substitute x with the given value and perform the calculation. \n",
      "\n",
      "In this case, we would substitute x with 3 in the equation \"y = x^2 + 3\".\n",
      "\n",
      "For the second part of your request, to plot this function we need to create a range of x values and then use the equation to calculate the associated y values. We can then use these values to create a graph.\n",
      "\n",
      "Let me do that for you. \n",
      "\n",
      "The value of y for x=3 in the equation y = x^2 + 3 is 12. This point is marked in red on the graph. \n",
      "\n",
      "The graph displays the function y = x^2 + 3. You can see that the function describes a parabola that opens upward, with a minimum point at y=3 when x=0. This is typical for functions of the form y = x^2 + constant, and in this case, the constant is 3. \n",
      "\n",
      "This graph gives a visual representation of all the possible (x, y) pairs that satisfy the equation. For any given value of x, you can find the corresponding value of y by locating the point on the graph vertically above or below x on the x-axis. Similarly, for any given value of y, you can find the corresponding x values by locating the points on the graph that are horizontally left or right from y on the y-axis. \n",
      "\n",
      "For example, in the case where x=3, you can see from the plot that y=12, which is the same result we got by calculation. \n",
      "\n"
     ]
    },
    {
     "data": {
      "image/png": "[encoded data removed]",
      "text/plain": [
       "<PIL.Image.Image image mode=RGBA size=400x400>"
      ]
     },
     "metadata": {},
     "output_type": "display_data"
    }
   ],
   "source": [
    "from PIL import Image\n",
    "from IPython.display import display\n",
    "\n",
    "for item in reversed(messages_json['data']):\n",
    "    # Check the content array\n",
    "    for content in reversed(item['content']):\n",
    "        # If there is text in the content array, print it\n",
    "        if 'text' in content:\n",
    "            print(content['text']['value'], \"\\n\")\n",
    "        # If there is an image_file in the content, print the file_id\n",
    "        if 'image_file' in content:\n",
    "            file_id = content['image_file']['file_id']\n",
    "            file_content = client.files.content(file_id)\n",
    "            # use PIL with the file_content\n",
    "            img = Image.open(file_content)\n",
    "            img = img.resize((400, 400))\n",
    "            display(img)\n",
    "            \n",
    "            \n"
   ]
  },
  {
   "cell_type": "markdown",
   "metadata": {},
   "source": [
    "## Ask another question\n",
    "\n",
    "We can add another user message to the thread and run it again. But now, we will wait for the response and display it right away.\n",
    "\n",
    "We will use Markdown to display the assistant's response.\n",
    "\n",
    "The new_run function is a helper function to add a question "
   ]
  },
  {
   "cell_type": "code",
   "execution_count": 13,
   "metadata": {},
   "outputs": [
    {
     "name": "stdout",
     "output_type": "stream",
     "text": [
      "Status: completed\n"
     ]
    },
    {
     "data": {
      "text/markdown": [
       "Solve the equation y = x^2 + 3 for x = 3 and plot the function graph."
      ],
      "text/plain": [
       "<IPython.core.display.Markdown object>"
      ]
     },
     "metadata": {},
     "output_type": "display_data"
    },
    {
     "data": {
      "text/markdown": [
       "Sure, to solve the equation for a specific x value we simply substitute x with the given value and perform the calculation. \n",
       "\n",
       "In this case, we would substitute x with 3 in the equation \"y = x^2 + 3\".\n",
       "\n",
       "For the second part of your request, to plot this function we need to create a range of x values and then use the equation to calculate the associated y values. We can then use these values to create a graph.\n",
       "\n",
       "Let me do that for you."
      ],
      "text/plain": [
       "<IPython.core.display.Markdown object>"
      ]
     },
     "metadata": {},
     "output_type": "display_data"
    },
    {
     "data": {
      "text/markdown": [
       "The value of y for x=3 in the equation y = x^2 + 3 is 12. This point is marked in red on the graph. \n",
       "\n",
       "The graph displays the function y = x^2 + 3. You can see that the function describes a parabola that opens upward, with a minimum point at y=3 when x=0. This is typical for functions of the form y = x^2 + constant, and in this case, the constant is 3. \n",
       "\n",
       "This graph gives a visual representation of all the possible (x, y) pairs that satisfy the equation. For any given value of x, you can find the corresponding value of y by locating the point on the graph vertically above or below x on the x-axis. Similarly, for any given value of y, you can find the corresponding x values by locating the points on the graph that are horizontally left or right from y on the y-axis. \n",
       "\n",
       "For example, in the case where x=3, you can see from the plot that y=12, which is the same result we got by calculation."
      ],
      "text/plain": [
       "<IPython.core.display.Markdown object>"
      ]
     },
     "metadata": {},
     "output_type": "display_data"
    },
    {
     "data": {
      "image/png": "[encoded data removed]",
      "text/plain": [
       "<PIL.Image.Image image mode=RGBA size=400x400>"
      ]
     },
     "metadata": {},
     "output_type": "display_data"
    },
    {
     "data": {
      "text/markdown": [
       "Is this a concave function?"
      ],
      "text/plain": [
       "<IPython.core.display.Markdown object>"
      ]
     },
     "metadata": {},
     "output_type": "display_data"
    },
    {
     "data": {
      "text/markdown": [
       "Yes, this is a concave function, specifically a concave up function. \n",
       "\n",
       "In mathematics, a function is said to be concave up (also known as convex) on an interval if the function's graph lies below its tangent lines on that interval. In simpler terms, if a function opens upwards like a cup, it's concave up.\n",
       "\n",
       "For a function f(x), if the second derivative of the function, denoted as f''(x), is positive, the function is concave up. For the given function y = x^2 + 3:\n",
       "\n",
       "The first derivative f'(x) = 2x.\n",
       "\n",
       "The second derivative f''(x) = 2.\n",
       "\n",
       "Since the second derivative is positive (2), this confirms that the function is concave up. \n",
       "\n",
       "The second derivative test is a useful tool for identifying the concavity of a function. Concavity, along with the function's first derivative, helps in determining the local minima and maxima, which is particularly useful in optimization problems."
      ],
      "text/plain": [
       "<IPython.core.display.Markdown object>"
      ]
     },
     "metadata": {},
     "output_type": "display_data"
    }
   ],
   "source": [
    "from IPython.display import clear_output, display, Markdown\n",
    "import time\n",
    "\n",
    "def new_run(question, thread_id):\n",
    "\n",
    "    # add new message to the thread\n",
    "    message = client.beta.threads.messages.create(\n",
    "        thread_id=thread_id,\n",
    "        role=\"user\",\n",
    "        content=question\n",
    "    )\n",
    "\n",
    "    # run the tread again\n",
    "    run = client.beta.threads.runs.create(\n",
    "    thread_id=thread.id,\n",
    "    assistant_id=assistant.id\n",
    "    )\n",
    "\n",
    "    status = run.status\n",
    "\n",
    "    while status not in [\"completed\", \"cancelled\", \"expired\", \"failed\"]:\n",
    "        time.sleep(2)\n",
    "        run = client.beta.threads.runs.retrieve(thread_id=thread.id,run_id=run.id)\n",
    "        status = run.status\n",
    "        print(f'Status: {status}')\n",
    "        clear_output(wait=True)\n",
    "\n",
    "    print(f'Status: {status}')\n",
    "\n",
    "    messages = client.beta.threads.messages.list(\n",
    "        thread_id=thread.id\n",
    "    )\n",
    "\n",
    "    messages_json = json.loads(messages.model_dump_json())\n",
    "\n",
    "    for item in reversed(messages_json['data']):\n",
    "        # Check the content array\n",
    "        for content in reversed(item['content']):\n",
    "            # If there is text in the content array, print it as Markdown\n",
    "            if 'text' in content:\n",
    "                display(Markdown(content['text']['value']))\n",
    "            # If there is an image_file in the content, print the file_id\n",
    "            if 'image_file' in content:\n",
    "                file_id = content['image_file']['file_id']\n",
    "                file_content = client.files.content(file_id)\n",
    "                # use PIL with the file_content\n",
    "                img = Image.open(file_content)\n",
    "                img = img.resize((400, 400))\n",
    "                display(img)\n",
    "\n",
    "new_run(\"Is this a concave function?\", thread.id)"
   ]
  },
  {
   "cell_type": "code",
   "execution_count": 14,
   "metadata": {},
   "outputs": [
    {
     "name": "stdout",
     "output_type": "stream",
     "text": [
      "Status: completed\n"
     ]
    },
    {
     "data": {
      "text/markdown": [
       "If a woman has two kids of 5 and 7 and she is 33, how many years does it take for the age of the two children to be exactly half her age"
      ],
      "text/plain": [
       "<IPython.core.display.Markdown object>"
      ]
     },
     "metadata": {},
     "output_type": "display_data"
    },
    {
     "data": {
      "text/markdown": [
       "Let's establish our variables:\n",
       "\n",
       "- The initial age of the woman is 33 years, represented as W.\n",
       "- The initial age of the first child is 5 years, represented as C1.\n",
       "- The initial age of the second child is 7 years, represented as C2.\n",
       "- The amount of years until the combined age of the children is exactly half the woman's age is what we are trying to find, represented as Y.\n",
       "\n",
       "With these variables in hand, we can set up and solve a simple equation. For the combined age of the children (C1 + C2 + Y) to be exactly half the woman's age (W + Y), they will have to satisfy the following equation:\n",
       "\n",
       "C1 + C2 + Y = 0.5 * (W + Y)\n",
       "\n",
       "We can solve this equation for Y to find the answer to the problem.\n",
       "\n",
       "We'll now use Python, a versatile programming language, to solve this equation. Python has built-in capabilities to handle such math problems swiftly. We'll plug the known values (33, 5, 7) into the equation and solve for Y."
      ],
      "text/plain": [
       "<IPython.core.display.Markdown object>"
      ]
     },
     "metadata": {},
     "output_type": "display_data"
    },
    {
     "data": {
      "text/markdown": [
       "I apologize for the error, it seems there was a problem with the execution. \n",
       "Let's try to solve the equation again using plain Python arithmetic operations instead of the symbolic approach. \n",
       "\n",
       "We can rearrange the original equation and simplify it into a simpler form where we calculate the years by following these steps: \n",
       "\n",
       "1. Multiply both sides of the equation by 2 to remove the fractional component: 2 * (C1 + C2 + Y) = W + Y\n",
       "\n",
       "2. Rearrange the equation to isolate Y (the unknown): Y = 2*(C1 + C2) - W\n",
       "\n",
       "3. Now we can use this new and simpler equation to calculate Y. Let's do that."
      ],
      "text/plain": [
       "<IPython.core.display.Markdown object>"
      ]
     },
     "metadata": {},
     "output_type": "display_data"
    },
    {
     "data": {
      "text/markdown": [
       "I apologize, there seemed to have been an error. I forgot to re-define the variables. Allow me to correct this error. These variables represent the ages of each individual:\n",
       "\n",
       "- W for the woman's age, which is 33 years.\n",
       "- C1 for the first child's age, which is 5 years.\n",
       "- C2 for the second child's age, which is 7 years. \n",
       "\n",
       "Let me fix this."
      ],
      "text/plain": [
       "<IPython.core.display.Markdown object>"
      ]
     },
     "metadata": {},
     "output_type": "display_data"
    },
    {
     "data": {
      "text/markdown": [
       "The calculation yielded a negative result (-9 years), which doesn't make sense in our context as age can't be negative. There seems to be an error in my calculation.\n",
       "\n",
       "I apologize for the confusion - the equation should have been rearranged to isolate Y (the unknown variable that represents years) differently:\n",
       "\n",
       "Y = 2 * (C1 + C2 + Y) - W\n",
       "\n",
       "I will correct this and solve again."
      ],
      "text/plain": [
       "<IPython.core.display.Markdown object>"
      ]
     },
     "metadata": {},
     "output_type": "display_data"
    },
    {
     "data": {
      "text/markdown": [
       "I apologize for the error, it seems there was a problem with the execution. Let's try a different approach to solve this problem. \n",
       "\n",
       "The condition we need to satisfy is that the sum of the ages of the two kids must be half the woman's age after Y years. This can be represented by the equation:\n",
       "(C1 + Y) + (C2 + Y) = 0.5 * (W + 2*Y)\n",
       "\n",
       "We can start at Y = 0 and increment Y by 1 each time until the equation holds true. This is the brute force method and though not the most efficient, works with simple problems like this one. Let's calculate the value for Y using this method."
      ],
      "text/plain": [
       "<IPython.core.display.Markdown object>"
      ]
     },
     "metadata": {},
     "output_type": "display_data"
    },
    {
     "data": {
      "text/markdown": [
       "Apologies for the inconvenience. While my last method should normally work, it seems there's a technical issue preventing the operation. However, I'll try to solve this problem using a different approach by algebraically solving the equation.\n",
       "\n",
       "By referring to the initial equation (C1 + C2 + Y = 0.5 * (W + Y)),\n",
       "Let's isolate Y on one side of the equation:\n",
       "\n",
       "Y = 2(C1 + C2) - W\n",
       "\n",
       "If this gives a negative value, it means that the children's combined age has already surpassed half of the woman's age and she will have to \"wait\" for the children's combined age to catch up to half of her own age. So if the age is negative we calculate it by:\n",
       "\n",
       "Y = (W - 2*(C1 + C2)) / 1.5\n",
       "\n",
       "Let's do the calculation again."
      ],
      "text/plain": [
       "<IPython.core.display.Markdown object>"
      ]
     },
     "metadata": {},
     "output_type": "display_data"
    },
    {
     "data": {
      "text/markdown": [
       "I apologize for the inconvenience, it seems we're encountering some technical difficulties in running the Python code to solve this problem.\n",
       "\n",
       "However, we can still work through the problem manually.\n",
       "\n",
       "Let the total years needed be represented by 'Y'. After Y years, the woman will be 33 + Y years old, and each child will be respectively 5 + Y and 7 + Y years old.\n",
       "\n",
       "We need to find 'Y' such that (5 + Y) + (7 + Y) equals half of (33 + Y).\n",
       "\n",
       "This simplifies to (12 + 2Y = half*(33 + Y))\n",
       "\n",
       "Removing the fraction will give 24 + 4Y = 33 + Y.\n",
       "\n",
       "Solving for Y will result in Y = 9 years. \n",
       "\n",
       "So, it will take 9 years for the ages of the two children combined to be half the woman's age."
      ],
      "text/plain": [
       "<IPython.core.display.Markdown object>"
      ]
     },
     "metadata": {},
     "output_type": "display_data"
    }
   ],
   "source": [
    "# create a new thread and run\n",
    "thread = client.beta.threads.create()\n",
    "new_run(\"If a woman has two kids of 5 and 7 and she is 33, how many years does it take for the age of the two children to be exactly half her age\", thread.id)"
   ]
  }
 ],
 "metadata": {
  "kernelspec": {
   "display_name": "Python 3",
   "language": "python",
   "name": "python3"
  },
  "language_info": {
   "codemirror_mode": {
    "name": "ipython",
    "version": 3
   },
   "file_extension": ".py",
   "mimetype": "text/x-python",
   "name": "python",
   "nbconvert_exporter": "python",
   "pygments_lexer": "ipython3",
   "version": "3.11.5"
  }
 },
 "nbformat": 4,
 "nbformat_minor": 2
}
