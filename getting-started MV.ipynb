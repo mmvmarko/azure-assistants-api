{
 "cells": [
  {
   "cell_type": "markdown",
   "metadata": {},
   "source": [
    "# Getting Started with the Assistants API\n",
    "\n",
    "During the public preview, the Assistants API is not available everywhere. Check https://learn.microsoft.com/en-us/azure/ai-services/openai/concepts/models#assistants-preview. I will use Sweden Central.\n",
    "\n",
    "The API version to use in Azure is 2024-02-15-preview\n",
    "\n",
    "Let's start creating an Azure OpenAI client...\n"
   ]
  },
  {
   "cell_type": "code",
   "execution_count": 1,
   "metadata": {},
   "outputs": [],
   "source": [
    "import os\n",
    "from dotenv import load_dotenv\n",
    "from openai import AzureOpenAI\n",
    "\n",
    "# Load environment variables from .env file\n",
    "# AZURE_OPENAI_API_KEY\n",
    "# AZURE_OPENAI_ENDPOINT\n",
    "# AZURE_OPENAI_API_VERSION\n",
    "load_dotenv()\n",
    "\n",
    "# Create Azure OpenAI client\n",
    "client = AzureOpenAI(\n",
    "    api_key=os.getenv('AZURE_OPENAI_API_KEY'),\n",
    "    azure_endpoint=os.getenv('AZURE_OPENAI_ENDPOINT'),\n",
    "    api_version=os.getenv('AZURE_OPENAI_API_VERSION')\n",
    ")\n"
   ]
  },
  {
   "cell_type": "markdown",
   "metadata": {},
   "source": [
    "## Creating the assistant"
   ]
  },
  {
   "cell_type": "code",
   "execution_count": 2,
   "metadata": {},
   "outputs": [
    {
     "name": "stdout",
     "output_type": "stream",
     "text": [
      "{\n",
      "  \"id\": \"asst_D0HIafb4Jr8I2W4wsLHVvIXE\",\n",
      "  \"created_at\": 1708963926,\n",
      "  \"description\": null,\n",
      "  \"file_ids\": [],\n",
      "  \"instructions\": \"You are a math tutor that helps users solve math problems. \\n    You have access to a sandboxed environment for writing and testing code. \\n    Explain to the user why you used the code and how it works\\n    \",\n",
      "  \"metadata\": {},\n",
      "  \"model\": \"gpt-4-8k\",\n",
      "  \"name\": \"Math Tutor\",\n",
      "  \"object\": \"assistant\",\n",
      "  \"tools\": [\n",
      "    {\n",
      "      \"type\": \"code_interpreter\"\n",
      "    }\n",
      "  ]\n",
      "}\n"
     ]
    }
   ],
   "source": [
    "assistant = client.beta.assistants.create(\n",
    "    name=\"Math Tutor\",\n",
    "    instructions=\"\"\"You are a math tutor that helps users solve math problems. \n",
    "    You have access to a sandboxed environment for writing and testing code. \n",
    "    Explain to the user why you used the code and how it works\n",
    "    \"\"\",\n",
    "    tools=[{\"type\": \"code_interpreter\"}],\n",
    "    model=\"gpt-4-8k\" # ensure you have a deployment in the region you are using\n",
    ")\n",
    "\n",
    "# display information about the assistant\n",
    "print(assistant.model_dump_json(indent=2))\n"
   ]
  },
  {
   "cell_type": "markdown",
   "metadata": {},
   "source": [
    "Above, you can see an assistant has a unique ID. For some reason, you don't see this ID in the Azure OpenAI Playground. With OpenAI, the assistants you create are shown in their portal.\n",
    "\n",
    "## Creating a thread\n",
    "\n",
    "Now we can create a thread. A thread is **not linked** to the assistant at creation time"
   ]
  },
  {
   "cell_type": "code",
   "execution_count": 3,
   "metadata": {},
   "outputs": [
    {
     "name": "stdout",
     "output_type": "stream",
     "text": [
      "Thread id:  thread_oHCAsVbLTer6WnzorJ8YRoAz\n"
     ]
    }
   ],
   "source": [
    "# Create a thread\n",
    "thread = client.beta.threads.create()\n",
    "\n",
    "# Threads have an id as well\n",
    "print(\"Thread id: \", thread.id)"
   ]
  },
  {
   "cell_type": "markdown",
   "metadata": {},
   "source": [
    "## Adding a user question\n",
    "\n",
    "Now we can add a user question to the thread via a **message**. The message is put on the thread via its ID.\n",
    "\n",
    "After adding the message, we get the messages from the tread and dump them. Every message has an ID and content. The type of content we add is just text and comes from a user (role=user)."
   ]
  },
  {
   "cell_type": "code",
   "execution_count": 4,
   "metadata": {},
   "outputs": [
    {
     "name": "stdout",
     "output_type": "stream",
     "text": [
      "{\n",
      "  \"data\": [\n",
      "    {\n",
      "      \"id\": \"msg_y5P9b2X7U04ytJIQtpPMI7cX\",\n",
      "      \"assistant_id\": null,\n",
      "      \"content\": [\n",
      "        {\n",
      "          \"text\": {\n",
      "            \"annotations\": [],\n",
      "            \"value\": \"Solve the equation y = x^2 + 3 for x = 3 and plot the function graph.\"\n",
      "          },\n",
      "          \"type\": \"text\"\n",
      "        }\n",
      "      ],\n",
      "      \"created_at\": 1708963997,\n",
      "      \"file_ids\": [],\n",
      "      \"metadata\": {},\n",
      "      \"object\": \"thread.message\",\n",
      "      \"role\": \"user\",\n",
      "      \"run_id\": null,\n",
      "      \"thread_id\": \"thread_oHCAsVbLTer6WnzorJ8YRoAz\"\n",
      "    }\n",
      "  ],\n",
      "  \"object\": \"list\",\n",
      "  \"first_id\": \"msg_y5P9b2X7U04ytJIQtpPMI7cX\",\n",
      "  \"last_id\": \"msg_y5P9b2X7U04ytJIQtpPMI7cX\",\n",
      "  \"has_more\": false\n",
      "}\n"
     ]
    }
   ],
   "source": [
    "# Add a user question to the thread\n",
    "message = client.beta.threads.messages.create(\n",
    "    thread_id=thread.id,\n",
    "    role=\"user\",\n",
    "    content=\"Solve the equation y = x^2 + 3 for x = 3 and plot the function graph.\"\n",
    ")\n",
    "\n",
    "# Show the messages\n",
    "thread_messages = client.beta.threads.messages.list(thread.id)\n",
    "print(thread_messages.model_dump_json(indent=2))"
   ]
  },
  {
   "cell_type": "markdown",
   "metadata": {},
   "source": [
    "## Running a thread\n",
    "\n",
    "Adding a message to a thread does not do much. To get a response from the assistant's model, we need to run the thread.\n",
    "\n",
    "When you run the thread, you can provide extra instructions via the `instructions` parameter. We do not do that below.\n",
    "\n",
    "A thread is run asychronously. We need to check the run status to see if it is done. After you run the cell below, keep running the cell under it until the status is `completed`. When it is not completed, the status is `in_progress`.\n",
    "\n",
    "Other statuses: cancelled, expired, failed"
   ]
  },
  {
   "cell_type": "code",
   "execution_count": 5,
   "metadata": {},
   "outputs": [],
   "source": [
    "run = client.beta.threads.runs.create(\n",
    "  thread_id=thread.id,\n",
    "  assistant_id=assistant.id\n",
    ")"
   ]
  },
  {
   "cell_type": "code",
   "execution_count": 10,
   "metadata": {},
   "outputs": [
    {
     "name": "stdout",
     "output_type": "stream",
     "text": [
      "completed\n"
     ]
    }
   ],
   "source": [
    "# run this until the run is completed\n",
    "# it can take a while before the run is completed\n",
    "# POZOR: in a real application, create a loop that waits for the run to complete !!!\n",
    "run = client.beta.threads.runs.retrieve(\n",
    "  thread_id=thread.id,\n",
    "  run_id=run.id\n",
    ")\n",
    "\n",
    "status = run.status\n",
    "print(status)"
   ]
  },
  {
   "cell_type": "markdown",
   "metadata": {},
   "source": [
    "## Result of the run\n",
    "\n",
    "To see what happened, we have to check the messages of the thread. The user message will be at the bottom. There should be a message with role=assistant. This is the response from the assistant's model. The message has a `content` field with the response. There can be multiple types of responses, for instance text and image."
   ]
  },
  {
   "cell_type": "code",
   "execution_count": 12,
   "metadata": {},
   "outputs": [
    {
     "name": "stdout",
     "output_type": "stream",
     "text": [
      "{\n",
      "  \"data\": [\n",
      "    {\n",
      "      \"id\": \"msg_yWoSsLqGg00WGjkG8IRmjgMP\",\n",
      "      \"assistant_id\": \"asst_D0HIafb4Jr8I2W4wsLHVvIXE\",\n",
      "      \"content\": [\n",
      "        {\n",
      "          \"text\": {\n",
      "            \"annotations\": [],\n",
      "            \"value\": \"Sorry about the interruption, there seems to be an issue with the execution. Normally, we would use the Matplotlib library to plot the function. We would specify a range of x values, compute the corresponding y values using our function, and then plot `y vs x`. \\n\\nHere's how the code would typically work:\\n\\n```python\\nimport matplotlib.pyplot as plt\\nimport numpy as np\\n\\n# create an array of x values from -10 to 10\\nx_values = np.linspace(-10, 10, 400)\\ny_values = function(x_values)\\n\\n# create the plot\\nplt.figure(figsize=(10, 6))\\nplt.plot(x_values, y_values, label=\\\"y = x^2 + 3\\\")\\nplt.xlabel('x')\\nplt.ylabel('y')\\nplt.title('Plot of y = x^2 + 3')\\nplt.legend()\\nplt.grid(True)\\nplt.show()\\n```\\n\\nIn the plot, x-values are on the horizontal axis and y-values are on the vertical axis. The curve represents the equation `y = x^2 + 3`.\\n\\nUnfortunately, due to the current technical issue, I am not able to run this plot here. You could try to run the above code in your local Python environment. I'm here to help if you have any questions about it.\"\n",
      "          },\n",
      "          \"type\": \"text\"\n",
      "        }\n",
      "      ],\n",
      "      \"created_at\": 1708964104,\n",
      "      \"file_ids\": [],\n",
      "      \"metadata\": {},\n",
      "      \"object\": \"thread.message\",\n",
      "      \"role\": \"assistant\",\n",
      "      \"run_id\": \"run_SPJZt1evtZXJxyvVo79Fss3E\",\n",
      "      \"thread_id\": \"thread_oHCAsVbLTer6WnzorJ8YRoAz\"\n",
      "    },\n",
      "    {\n",
      "      \"id\": \"msg_DiBF2IAEMDYvOsAKH1GDQHkD\",\n",
      "      \"assistant_id\": \"asst_D0HIafb4Jr8I2W4wsLHVvIXE\",\n",
      "      \"content\": [\n",
      "        {\n",
      "          \"text\": {\n",
      "            \"annotations\": [],\n",
      "            \"value\": \"I apologize for the inconvenience. We currently seem to have a technical issue that prevents the calculations. Once this is resolved, we would replace x in the equation with 3 and solve for y.\\n\\nNow, let's try to plot the graph for the function `y = x^2 + 3`. Although the server issue may still prevent it from being displayed properly. We would use a range of x-values, calculate the corresponding y-values using the function, and then plot these points on a graph. The library matplotlib will be used to create this plot. Let's give it a try.\"\n",
      "          },\n",
      "          \"type\": \"text\"\n",
      "        }\n",
      "      ],\n",
      "      \"created_at\": 1708964080,\n",
      "      \"file_ids\": [],\n",
      "      \"metadata\": {},\n",
      "      \"object\": \"thread.message\",\n",
      "      \"role\": \"assistant\",\n",
      "      \"run_id\": \"run_SPJZt1evtZXJxyvVo79Fss3E\",\n",
      "      \"thread_id\": \"thread_oHCAsVbLTer6WnzorJ8YRoAz\"\n",
      "    },\n",
      "    {\n",
      "      \"id\": \"msg_bTMwoFyVb9jRtocwcyGR9ZpA\",\n",
      "      \"assistant_id\": \"asst_D0HIafb4Jr8I2W4wsLHVvIXE\",\n",
      "      \"content\": [\n",
      "        {\n",
      "          \"text\": {\n",
      "            \"annotations\": [],\n",
      "            \"value\": \"Sorry about the confusion, the server seems to have run into an issue and we were unable to compute the value. Let's try once again to calculate the value of `y` for `x = 3` in the equation `y = x^2 + 3`.\"\n",
      "          },\n",
      "          \"type\": \"text\"\n",
      "        }\n",
      "      ],\n",
      "      \"created_at\": 1708964074,\n",
      "      \"file_ids\": [],\n",
      "      \"metadata\": {},\n",
      "      \"object\": \"thread.message\",\n",
      "      \"role\": \"assistant\",\n",
      "      \"run_id\": \"run_SPJZt1evtZXJxyvVo79Fss3E\",\n",
      "      \"thread_id\": \"thread_oHCAsVbLTer6WnzorJ8YRoAz\"\n",
      "    },\n",
      "    {\n",
      "      \"id\": \"msg_lC1cqUlt4QpHLEAkkwJ8ulaH\",\n",
      "      \"assistant_id\": \"asst_D0HIafb4Jr8I2W4wsLHVvIXE\",\n",
      "      \"content\": [\n",
      "        {\n",
      "          \"text\": {\n",
      "            \"annotations\": [],\n",
      "            \"value\": \"I apologize for the inconvenience, there seems to be a technical issue with the connection. Let's redo the previous operation. Let's calculate the value of `y` when `x=3` for our function `y = x^2 + 3`.\"\n",
      "          },\n",
      "          \"type\": \"text\"\n",
      "        }\n",
      "      ],\n",
      "      \"created_at\": 1708964066,\n",
      "      \"file_ids\": [],\n",
      "      \"metadata\": {},\n",
      "      \"object\": \"thread.message\",\n",
      "      \"role\": \"assistant\",\n",
      "      \"run_id\": \"run_SPJZt1evtZXJxyvVo79Fss3E\",\n",
      "      \"thread_id\": \"thread_oHCAsVbLTer6WnzorJ8YRoAz\"\n",
      "    },\n",
      "    {\n",
      "      \"id\": \"msg_WkO3rNQZr6KFw4VKHP1vs22B\",\n",
      "      \"assistant_id\": \"asst_D0HIafb4Jr8I2W4wsLHVvIXE\",\n",
      "      \"content\": [\n",
      "        {\n",
      "          \"text\": {\n",
      "            \"annotations\": [],\n",
      "            \"value\": \"Apologies for the interruption, there appeared to be a temporary issue. Now, let's try reevaluating the function for `x=3`.\"\n",
      "          },\n",
      "          \"type\": \"text\"\n",
      "        }\n",
      "      ],\n",
      "      \"created_at\": 1708964061,\n",
      "      \"file_ids\": [],\n",
      "      \"metadata\": {},\n",
      "      \"object\": \"thread.message\",\n",
      "      \"role\": \"assistant\",\n",
      "      \"run_id\": \"run_SPJZt1evtZXJxyvVo79Fss3E\",\n",
      "      \"thread_id\": \"thread_oHCAsVbLTer6WnzorJ8YRoAz\"\n",
      "    },\n",
      "    {\n",
      "      \"id\": \"msg_EBCG5Vw6Uxlpvb0GdYaO5sy4\",\n",
      "      \"assistant_id\": \"asst_D0HIafb4Jr8I2W4wsLHVvIXE\",\n",
      "      \"content\": [\n",
      "        {\n",
      "          \"text\": {\n",
      "            \"annotations\": [],\n",
      "            \"value\": \"Okay, let's break down the problem into two parts:\\n\\n1. Solve the equation `y = x^2 + 3` for `x = 3`. \\nIn this step, we simply need to substitute the value `x = 3` into the equation and evaluate it to get the value of `y`.\\n\\n2. Plot the function graph. \\nIn this step, we will create a graph representing the equation `y = x^2 + 3`. The graph will help in visualizing how the value of `y` changes with respect to `x`. \\n\\nFirst things first, let's solve the equation for `x=3`.\"\n",
      "          },\n",
      "          \"type\": \"text\"\n",
      "        }\n",
      "      ],\n",
      "      \"created_at\": 1708964043,\n",
      "      \"file_ids\": [],\n",
      "      \"metadata\": {},\n",
      "      \"object\": \"thread.message\",\n",
      "      \"role\": \"assistant\",\n",
      "      \"run_id\": \"run_SPJZt1evtZXJxyvVo79Fss3E\",\n",
      "      \"thread_id\": \"thread_oHCAsVbLTer6WnzorJ8YRoAz\"\n",
      "    },\n",
      "    {\n",
      "      \"id\": \"msg_y5P9b2X7U04ytJIQtpPMI7cX\",\n",
      "      \"assistant_id\": null,\n",
      "      \"content\": [\n",
      "        {\n",
      "          \"text\": {\n",
      "            \"annotations\": [],\n",
      "            \"value\": \"Solve the equation y = x^2 + 3 for x = 3 and plot the function graph.\"\n",
      "          },\n",
      "          \"type\": \"text\"\n",
      "        }\n",
      "      ],\n",
      "      \"created_at\": 1708963997,\n",
      "      \"file_ids\": [],\n",
      "      \"metadata\": {},\n",
      "      \"object\": \"thread.message\",\n",
      "      \"role\": \"user\",\n",
      "      \"run_id\": null,\n",
      "      \"thread_id\": \"thread_oHCAsVbLTer6WnzorJ8YRoAz\"\n",
      "    }\n",
      "  ],\n",
      "  \"object\": \"list\",\n",
      "  \"first_id\": \"msg_yWoSsLqGg00WGjkG8IRmjgMP\",\n",
      "  \"last_id\": \"msg_y5P9b2X7U04ytJIQtpPMI7cX\",\n",
      "  \"has_more\": false\n",
      "}\n"
     ]
    }
   ],
   "source": [
    "# dump the messages on the thread again\n",
    "messages = client.beta.threads.messages.list(\n",
    "  thread_id=thread.id\n",
    ")\n",
    "\n",
    "print(messages.model_dump_json(indent=2))"
   ]
  },
  {
   "cell_type": "markdown",
   "metadata": {},
   "source": [
    "## Showing the response\n",
    "\n",
    "We can show all messages in the array in reverse order to start from the beginning. Depending on the content (text, image) we can do something with it.\n",
    "\n",
    "For now just print the text or file_id if there is one"
   ]
  },
  {
   "cell_type": "code",
   "execution_count": 13,
   "metadata": {},
   "outputs": [
    {
     "name": "stdout",
     "output_type": "stream",
     "text": [
      "Solve the equation y = x^2 + 3 for x = 3 and plot the function graph. \n",
      "\n",
      "Okay, let's break down the problem into two parts:\n",
      "\n",
      "1. Solve the equation `y = x^2 + 3` for `x = 3`. \n",
      "In this step, we simply need to substitute the value `x = 3` into the equation and evaluate it to get the value of `y`.\n",
      "\n",
      "2. Plot the function graph. \n",
      "In this step, we will create a graph representing the equation `y = x^2 + 3`. The graph will help in visualizing how the value of `y` changes with respect to `x`. \n",
      "\n",
      "First things first, let's solve the equation for `x=3`. \n",
      "\n",
      "Apologies for the interruption, there appeared to be a temporary issue. Now, let's try reevaluating the function for `x=3`. \n",
      "\n",
      "I apologize for the inconvenience, there seems to be a technical issue with the connection. Let's redo the previous operation. Let's calculate the value of `y` when `x=3` for our function `y = x^2 + 3`. \n",
      "\n",
      "Sorry about the confusion, the server seems to have run into an issue and we were unable to compute the value. Let's try once again to calculate the value of `y` for `x = 3` in the equation `y = x^2 + 3`. \n",
      "\n",
      "I apologize for the inconvenience. We currently seem to have a technical issue that prevents the calculations. Once this is resolved, we would replace x in the equation with 3 and solve for y.\n",
      "\n",
      "Now, let's try to plot the graph for the function `y = x^2 + 3`. Although the server issue may still prevent it from being displayed properly. We would use a range of x-values, calculate the corresponding y-values using the function, and then plot these points on a graph. The library matplotlib will be used to create this plot. Let's give it a try. \n",
      "\n",
      "Sorry about the interruption, there seems to be an issue with the execution. Normally, we would use the Matplotlib library to plot the function. We would specify a range of x values, compute the corresponding y values using our function, and then plot `y vs x`. \n",
      "\n",
      "Here's how the code would typically work:\n",
      "\n",
      "```python\n",
      "import matplotlib.pyplot as plt\n",
      "import numpy as np\n",
      "\n",
      "# create an array of x values from -10 to 10\n",
      "x_values = np.linspace(-10, 10, 400)\n",
      "y_values = function(x_values)\n",
      "\n",
      "# create the plot\n",
      "plt.figure(figsize=(10, 6))\n",
      "plt.plot(x_values, y_values, label=\"y = x^2 + 3\")\n",
      "plt.xlabel('x')\n",
      "plt.ylabel('y')\n",
      "plt.title('Plot of y = x^2 + 3')\n",
      "plt.legend()\n",
      "plt.grid(True)\n",
      "plt.show()\n",
      "```\n",
      "\n",
      "In the plot, x-values are on the horizontal axis and y-values are on the vertical axis. The curve represents the equation `y = x^2 + 3`.\n",
      "\n",
      "Unfortunately, due to the current technical issue, I am not able to run this plot here. You could try to run the above code in your local Python environment. I'm here to help if you have any questions about it. \n",
      "\n"
     ]
    }
   ],
   "source": [
    "import json\n",
    "\n",
    "messages_json = json.loads(messages.model_dump_json())\n",
    "\n",
    "for item in reversed(messages_json['data']):\n",
    "    # Check the content array\n",
    "    for content in reversed(item['content']):\n",
    "        # If there is text in the content array, print it\n",
    "        if 'text' in content:\n",
    "            print(content['text']['value'], \"\\n\")\n",
    "        # If there is an image_file in the content, print the file_id\n",
    "        if 'image_file' in content:\n",
    "            print(\"Image ID:\" , content['image_file']['file_id'], \"\\n\")"
   ]
  },
  {
   "cell_type": "markdown",
   "metadata": {},
   "source": [
    "## Retrieving the image file\n",
    "\n",
    "Same code as above but show the image with PIL and IPython.display"
   ]
  },
  {
   "cell_type": "code",
   "execution_count": 16,
   "metadata": {},
   "outputs": [
    {
     "name": "stdout",
     "output_type": "stream",
     "text": [
      "Solve the equation y = x^2 + 3 for x = 3 and plot the function graph. \n",
      "\n",
      "Okay, let's break down the problem into two parts:\n",
      "\n",
      "1. Solve the equation `y = x^2 + 3` for `x = 3`. \n",
      "In this step, we simply need to substitute the value `x = 3` into the equation and evaluate it to get the value of `y`.\n",
      "\n",
      "2. Plot the function graph. \n",
      "In this step, we will create a graph representing the equation `y = x^2 + 3`. The graph will help in visualizing how the value of `y` changes with respect to `x`. \n",
      "\n",
      "First things first, let's solve the equation for `x=3`. \n",
      "\n",
      "Apologies for the interruption, there appeared to be a temporary issue. Now, let's try reevaluating the function for `x=3`. \n",
      "\n",
      "I apologize for the inconvenience, there seems to be a technical issue with the connection. Let's redo the previous operation. Let's calculate the value of `y` when `x=3` for our function `y = x^2 + 3`. \n",
      "\n",
      "Sorry about the confusion, the server seems to have run into an issue and we were unable to compute the value. Let's try once again to calculate the value of `y` for `x = 3` in the equation `y = x^2 + 3`. \n",
      "\n",
      "I apologize for the inconvenience. We currently seem to have a technical issue that prevents the calculations. Once this is resolved, we would replace x in the equation with 3 and solve for y.\n",
      "\n",
      "Now, let's try to plot the graph for the function `y = x^2 + 3`. Although the server issue may still prevent it from being displayed properly. We would use a range of x-values, calculate the corresponding y-values using the function, and then plot these points on a graph. The library matplotlib will be used to create this plot. Let's give it a try. \n",
      "\n",
      "Sorry about the interruption, there seems to be an issue with the execution. Normally, we would use the Matplotlib library to plot the function. We would specify a range of x values, compute the corresponding y values using our function, and then plot `y vs x`. \n",
      "\n",
      "Here's how the code would typically work:\n",
      "\n",
      "```python\n",
      "import matplotlib.pyplot as plt\n",
      "import numpy as np\n",
      "\n",
      "# create an array of x values from -10 to 10\n",
      "x_values = np.linspace(-10, 10, 400)\n",
      "y_values = function(x_values)\n",
      "\n",
      "# create the plot\n",
      "plt.figure(figsize=(10, 6))\n",
      "plt.plot(x_values, y_values, label=\"y = x^2 + 3\")\n",
      "plt.xlabel('x')\n",
      "plt.ylabel('y')\n",
      "plt.title('Plot of y = x^2 + 3')\n",
      "plt.legend()\n",
      "plt.grid(True)\n",
      "plt.show()\n",
      "```\n",
      "\n",
      "In the plot, x-values are on the horizontal axis and y-values are on the vertical axis. The curve represents the equation `y = x^2 + 3`.\n",
      "\n",
      "Unfortunately, due to the current technical issue, I am not able to run this plot here. You could try to run the above code in your local Python environment. I'm here to help if you have any questions about it. \n",
      "\n"
     ]
    }
   ],
   "source": [
    "from PIL import Image\n",
    "from IPython.display import display\n",
    "\n",
    "for item in reversed(messages_json['data']):\n",
    "    # Check the content array\n",
    "    for content in reversed(item['content']):\n",
    "        # If there is text in the content array, print it\n",
    "        if 'text' in content:\n",
    "            print(content['text']['value'], \"\\n\")\n",
    "        # If there is an image_file in the content, print the file_id\n",
    "        if 'image_file' in content:\n",
    "            file_id = content['image_file']['file_id']\n",
    "            file_content = client.files.content(file_id)\n",
    "            # use PIL with the file_content\n",
    "            img = Image.open(file_content)\n",
    "            img = img.resize((400, 400))\n",
    "            display(img)\n",
    "            \n",
    "            \n"
   ]
  },
  {
   "cell_type": "markdown",
   "metadata": {},
   "source": [
    "## Ask another question\n",
    "\n",
    "We can add another user message to the thread and run it again. But now, we will wait for the response and display it right away.\n",
    "\n",
    "We will use Markdown to display the assistant's response.\n",
    "\n",
    "The new_run function is a helper function to add a question "
   ]
  },
  {
   "cell_type": "code",
   "execution_count": 33,
   "metadata": {},
   "outputs": [
    {
     "name": "stdout",
     "output_type": "stream",
     "text": [
      "Status: completed\n"
     ]
    },
    {
     "data": {
      "text/markdown": [
       "Solve the equation y = x^2 + 3 for x = 3 and plot the function graph."
      ],
      "text/plain": [
       "<IPython.core.display.Markdown object>"
      ]
     },
     "metadata": {},
     "output_type": "display_data"
    },
    {
     "data": {
      "text/markdown": [
       "To solve the given equation \\( y = x^2 + 3 \\) for \\( x = 3 \\) and plot the function graph, I applied the following steps:\n",
       "\n",
       "1. I created a function `f(x)` that represents the equation, so when we pass any value of `x`, it returns the corresponding value of `y`.\n",
       "2. I computed the value of `y` for `x = 3` by calling `f(3)`, which gives us 12. This represents a specific point on the graph where the `x` coordinate is 3.\n",
       "3. I created an array of `x` values ranging from -10 to 10, which serves as the domain for our graph. The function is then evaluated at each point to get the corresponding `y` values.\n",
       "4. Using Matplotlib, a Python plotting library, I plotted the graph of the function `y = x^2 + 3` across the generated range of `x` values.\n",
       "5. I also plotted the specific point `(3, 12)` on the graph, which is highlighted in red to show where `x = 3` falls on the curve.\n",
       "6. The plot includes labels, a legend, and a grid to improve readability.\n",
       "\n",
       "As you can see in the plot, the parabola represents the function `y = x^2 + 3`, and the red dot shows the point where `x = 3`, confirming that `y = 12` when `x = 3`."
      ],
      "text/plain": [
       "<IPython.core.display.Markdown object>"
      ]
     },
     "metadata": {},
     "output_type": "display_data"
    },
    {
     "data": {
      "image/png": "[encoded data removed]",
      "text/plain": [
       "<PIL.Image.Image image mode=RGBA size=400x400>"
      ]
     },
     "metadata": {},
     "output_type": "display_data"
    },
    {
     "data": {
      "text/markdown": [
       "Is this a concave function?"
      ],
      "text/plain": [
       "<IPython.core.display.Markdown object>"
      ]
     },
     "metadata": {},
     "output_type": "display_data"
    },
    {
     "data": {
      "text/markdown": [
       "The function \\( y = x^2 + 3 \\) is a quadratic function where the coefficient of the \\( x^2 \\) term is positive. In this case, the coefficient is 1, which is indeed positive. For quadratic functions of the form \\( y = ax^2 + bx + c \\), when \\( a > 0 \\), the parabola opens upwards, making the function a convex function rather than concave.\n",
       "\n",
       "So, to answer your question, \\( y = x^2 + 3 \\) is not a concave function; it is a convex function. In the context of optimization, a convex function has a single minimum point and no maximum point, whereas a concave function would have a single maximum point and no minimum point. The plot shown previously demonstrates the convexity by the shape of the parabola opening upwards."
      ],
      "text/plain": [
       "<IPython.core.display.Markdown object>"
      ]
     },
     "metadata": {},
     "output_type": "display_data"
    }
   ],
   "source": [
    "from IPython.display import clear_output, display, Markdown\n",
    "import time\n",
    "\n",
    "def new_run(question, thread_id):\n",
    "\n",
    "    # add new message to the thread\n",
    "    message = client.beta.threads.messages.create(\n",
    "        thread_id=thread_id,\n",
    "        role=\"user\",\n",
    "        content=question\n",
    "    )\n",
    "\n",
    "    # run the tread again\n",
    "    run = client.beta.threads.runs.create(\n",
    "    thread_id=thread.id,\n",
    "    assistant_id=assistant.id\n",
    "    )\n",
    "\n",
    "    status = run.status\n",
    "\n",
    "    while status not in [\"completed\", \"cancelled\", \"expired\", \"failed\"]:\n",
    "        time.sleep(2)\n",
    "        run = client.beta.threads.runs.retrieve(thread_id=thread.id,run_id=run.id)\n",
    "        status = run.status\n",
    "        print(f'Status: {status}')\n",
    "        clear_output(wait=True)\n",
    "\n",
    "    print(f'Status: {status}')\n",
    "\n",
    "    messages = client.beta.threads.messages.list(\n",
    "        thread_id=thread.id\n",
    "    )\n",
    "\n",
    "    messages_json = json.loads(messages.model_dump_json())\n",
    "\n",
    "    for item in reversed(messages_json['data']):\n",
    "        # Check the content array\n",
    "        for content in reversed(item['content']):\n",
    "            # If there is text in the content array, print it as Markdown\n",
    "            if 'text' in content:\n",
    "                display(Markdown(content['text']['value']))\n",
    "            # If there is an image_file in the content, print the file_id\n",
    "            if 'image_file' in content:\n",
    "                file_id = content['image_file']['file_id']\n",
    "                file_content = client.files.content(file_id)\n",
    "                # use PIL with the file_content\n",
    "                img = Image.open(file_content)\n",
    "                img = img.resize((400, 400))\n",
    "                display(img)\n",
    "\n",
    "new_run(\"Is this a concave function?\", thread.id)"
   ]
  },
  {
   "cell_type": "code",
   "execution_count": 34,
   "metadata": {},
   "outputs": [
    {
     "name": "stdout",
     "output_type": "stream",
     "text": [
      "Status: completed\n"
     ]
    },
    {
     "data": {
      "text/markdown": [
       "If a woman has two kids of 5 and 7 and she is 33, how many years does it take for the age of the two children to be exactly half her age"
      ],
      "text/plain": [
       "<IPython.core.display.Markdown object>"
      ]
     },
     "metadata": {},
     "output_type": "display_data"
    },
    {
     "data": {
      "text/markdown": [
       "To solve this problem, let's first define some variables and create an equation based on the information given:\n",
       "\n",
       "- Let \\( y \\) be the number of years it takes for the age of the two children to be exactly half the mother's age.\n",
       "- The mother's current age is 33 years.\n",
       "- The age of the older child is 7 years.\n",
       "- The age of the younger child is 5 years.\n",
       "\n",
       "In \\( y \\) years, the mother will be \\( 33 + y \\) years old. We also know that in \\( y \\) years, the older child will be \\( 7 + y \\) years old, and the younger child will be \\( 5 + y \\) years old.\n",
       "\n",
       "The sum of the ages of the two children in \\( y \\) years will be \\( (7 + y) + (5 + y) \\).\n",
       "\n",
       "The condition we need to satisfy is that this sum is half of the mother's age in \\( y \\) years:\n",
       "\n",
       "\\[ (7 + y) + (5 + y) = \\frac{1}{2} \\times (33 + y) \\]\n",
       "\n",
       "Now, we will solve this equation to find \\( y \\)."
      ],
      "text/plain": [
       "<IPython.core.display.Markdown object>"
      ]
     },
     "metadata": {},
     "output_type": "display_data"
    },
    {
     "data": {
      "text/markdown": [
       "The solution to the equation is \\( y = 3 \\). This means it will take 3 years for the combined ages of the two children to be exactly half the age of the mother."
      ],
      "text/plain": [
       "<IPython.core.display.Markdown object>"
      ]
     },
     "metadata": {},
     "output_type": "display_data"
    }
   ],
   "source": [
    "# create a new thread and run\n",
    "thread = client.beta.threads.create()\n",
    "new_run(\"If a woman has two kids of 5 and 7 and she is 33, how many years does it take for the age of the two children to be exactly half her age\", thread.id)"
   ]
  }
 ],
 "metadata": {
  "kernelspec": {
   "display_name": "Python 3",
   "language": "python",
   "name": "python3"
  },
  "language_info": {
   "codemirror_mode": {
    "name": "ipython",
    "version": 3
   },
   "file_extension": ".py",
   "mimetype": "text/x-python",
   "name": "python",
   "nbconvert_exporter": "python",
   "pygments_lexer": "ipython3",
   "version": "3.11.5"
  }
 },
 "nbformat": 4,
 "nbformat_minor": 2
}
