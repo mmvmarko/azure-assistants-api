{
 "cells": [
  {
   "cell_type": "markdown",
   "metadata": {},
   "source": [
    "# Getting Started with the Assistants API\n",
    "\n",
    "During the public preview, the Assistants API is not available everywhere. Check https://learn.microsoft.com/en-us/azure/ai-services/openai/concepts/models#assistants-preview. I will use Sweden Central.\n",
    "\n",
    "The API version to use in Azure is 2024-02-15-preview\n",
    "\n",
    "Let's start creating an Azure OpenAI client...\n"
   ]
  },
  {
   "cell_type": "code",
   "execution_count": 1,
   "metadata": {},
   "outputs": [],
   "source": [
    "import os\n",
    "from dotenv import load_dotenv\n",
    "from openai import AzureOpenAI\n",
    "\n",
    "# Load environment variables from .env file\n",
    "# AZURE_OPENAI_API_KEY\n",
    "# AZURE_OPENAI_ENDPOINT\n",
    "# AZURE_OPENAI_API_VERSION\n",
    "load_dotenv()\n",
    "\n",
    "# Create Azure OpenAI client\n",
    "client = AzureOpenAI(\n",
    "    api_key=os.getenv('AZURE_OPENAI_API_KEY'),\n",
    "    azure_endpoint=os.getenv('AZURE_OPENAI_ENDPOINT'),\n",
    "    api_version=os.getenv('AZURE_OPENAI_API_VERSION')\n",
    ")\n"
   ]
  },
  {
   "cell_type": "markdown",
   "metadata": {},
   "source": [
    "## Creating the assistant"
   ]
  },
  {
   "cell_type": "code",
   "execution_count": 3,
   "metadata": {},
   "outputs": [
    {
     "name": "stdout",
     "output_type": "stream",
     "text": [
      "{\n",
      "  \"id\": \"asst_oqoyulQGMfRF0MTRPd5jKdCA\",\n",
      "  \"created_at\": 1709904901,\n",
      "  \"description\": null,\n",
      "  \"file_ids\": [],\n",
      "  \"instructions\": \"You are a math tutor that helps users solve math problems. \\n    You have access to a sandboxed environment for writing and testing code. \\n    Explain to the user why you used the code and how it works\\n    \",\n",
      "  \"metadata\": {},\n",
      "  \"model\": \"gpt-4\",\n",
      "  \"name\": \"Math Tutor\",\n",
      "  \"object\": \"assistant\",\n",
      "  \"tools\": [\n",
      "    {\n",
      "      \"type\": \"code_interpreter\"\n",
      "    }\n",
      "  ]\n",
      "}\n"
     ]
    }
   ],
   "source": [
    "assistant = client.beta.assistants.create(\n",
    "    name=\"Math Tutor\",\n",
    "    instructions=\"\"\"You are a math tutor that helps users solve math problems. \n",
    "    You have access to a sandboxed environment for writing and testing code. \n",
    "    Explain to the user why you used the code and how it works\n",
    "    \"\"\",\n",
    "    tools=[{\"type\": \"code_interpreter\"}],\n",
    "    model=\"gpt-4\" # ensure you have a deployment in the region you are using\n",
    ")\n",
    "\n",
    "# display information about the assistant\n",
    "print(assistant.model_dump_json(indent=2))\n"
   ]
  },
  {
   "cell_type": "markdown",
   "metadata": {},
   "source": [
    "Above, you can see an assistant has a unique ID. For some reason, you don't see this ID in the Azure OpenAI Playground. With OpenAI, the assistants you create are shown in their portal.\n",
    "\n",
    "## Creating a thread\n",
    "\n",
    "Now we can create a thread. A thread is **not linked** to the assistant at creation time"
   ]
  },
  {
   "cell_type": "code",
   "execution_count": 4,
   "metadata": {},
   "outputs": [
    {
     "name": "stdout",
     "output_type": "stream",
     "text": [
      "Thread id:  thread_qCf9vfuqu1lzEE7O05owndnz\n"
     ]
    }
   ],
   "source": [
    "# Create a thread\n",
    "thread = client.beta.threads.create()\n",
    "\n",
    "# Threads have an id as well\n",
    "print(\"Thread id: \", thread.id)"
   ]
  },
  {
   "cell_type": "markdown",
   "metadata": {},
   "source": [
    "## Adding a user question\n",
    "\n",
    "Now we can add a user question to the thread via a **message**. The message is put on the thread via its ID.\n",
    "\n",
    "After adding the message, we get the messages from the tread and dump them. Every message has an ID and content. The type of content we add is just text and comes from a user (role=user)."
   ]
  },
  {
   "cell_type": "code",
   "execution_count": 5,
   "metadata": {},
   "outputs": [
    {
     "name": "stdout",
     "output_type": "stream",
     "text": [
      "{\n",
      "  \"data\": [\n",
      "    {\n",
      "      \"id\": \"msg_AjgTthQI4AeMOen2iFNLyHMr\",\n",
      "      \"assistant_id\": null,\n",
      "      \"content\": [\n",
      "        {\n",
      "          \"text\": {\n",
      "            \"annotations\": [],\n",
      "            \"value\": \"Solve the equation y = x^2 + 3 for x = 3 and plot the function graph.\"\n",
      "          },\n",
      "          \"type\": \"text\"\n",
      "        }\n",
      "      ],\n",
      "      \"created_at\": 1709904928,\n",
      "      \"file_ids\": [],\n",
      "      \"metadata\": {},\n",
      "      \"object\": \"thread.message\",\n",
      "      \"role\": \"user\",\n",
      "      \"run_id\": null,\n",
      "      \"thread_id\": \"thread_qCf9vfuqu1lzEE7O05owndnz\"\n",
      "    }\n",
      "  ],\n",
      "  \"object\": \"list\",\n",
      "  \"first_id\": \"msg_AjgTthQI4AeMOen2iFNLyHMr\",\n",
      "  \"last_id\": \"msg_AjgTthQI4AeMOen2iFNLyHMr\",\n",
      "  \"has_more\": false\n",
      "}\n"
     ]
    }
   ],
   "source": [
    "# Add a user question to the thread\n",
    "message = client.beta.threads.messages.create(\n",
    "    thread_id=thread.id,\n",
    "    role=\"user\",\n",
    "    content=\"Solve the equation y = x^2 + 3 for x = 3 and plot the function graph.\"\n",
    ")\n",
    "\n",
    "# Show the messages\n",
    "thread_messages = client.beta.threads.messages.list(thread.id)\n",
    "print(thread_messages.model_dump_json(indent=2))"
   ]
  },
  {
   "cell_type": "markdown",
   "metadata": {},
   "source": [
    "## Running a thread\n",
    "\n",
    "Adding a message to a thread does not do much. To get a response from the assistant's model, we need to run the thread.\n",
    "\n",
    "When you run the thread, you can provide extra instructions via the `instructions` parameter. We do not do that below.\n",
    "\n",
    "A thread is run asychronously. We need to check the run status to see if it is done. After you run the cell below, keep running the cell under it until the status is `completed`. When it is not completed, the status is `in_progress`.\n",
    "\n",
    "Other statuses: cancelled, expired, failed"
   ]
  },
  {
   "cell_type": "code",
   "execution_count": 6,
   "metadata": {},
   "outputs": [],
   "source": [
    "run = client.beta.threads.runs.create(\n",
    "  thread_id=thread.id,\n",
    "  assistant_id=assistant.id\n",
    ")"
   ]
  },
  {
   "cell_type": "code",
   "execution_count": 8,
   "metadata": {},
   "outputs": [
    {
     "name": "stdout",
     "output_type": "stream",
     "text": [
      "completed\n"
     ]
    }
   ],
   "source": [
    "# run this until the run is completed\n",
    "# it can take a while before the run is completed\n",
    "# POZOR: in a real application, create a loop that waits for the run to complete !!!\n",
    "run = client.beta.threads.runs.retrieve(\n",
    "  thread_id=thread.id,\n",
    "  run_id=run.id\n",
    ")\n",
    "\n",
    "status = run.status\n",
    "print(status)"
   ]
  },
  {
   "cell_type": "markdown",
   "metadata": {},
   "source": [
    "## Result of the run\n",
    "\n",
    "To see what happened, we have to check the messages of the thread. The user message will be at the bottom. There should be a message with role=assistant. This is the response from the assistant's model. The message has a `content` field with the response. There can be multiple types of responses, for instance text and image."
   ]
  },
  {
   "cell_type": "code",
   "execution_count": 9,
   "metadata": {},
   "outputs": [
    {
     "name": "stdout",
     "output_type": "stream",
     "text": [
      "{\n",
      "  \"data\": [\n",
      "    {\n",
      "      \"id\": \"msg_If4UmjqvDndXKEtj8cKM83vu\",\n",
      "      \"assistant_id\": \"asst_oqoyulQGMfRF0MTRPd5jKdCA\",\n",
      "      \"content\": [\n",
      "        {\n",
      "          \"image_file\": {\n",
      "            \"file_id\": \"assistant-OYBIktLCwJ1mImsvIdsg5wqG\"\n",
      "          },\n",
      "          \"type\": \"image_file\"\n",
      "        },\n",
      "        {\n",
      "          \"text\": {\n",
      "            \"annotations\": [],\n",
      "            \"value\": \"Here is the graph of the function y = x^2 + 3. As you can see, the function represents a parabola that opens upwards, which is a typical shape for quadratic functions in the form y = ax^2 + bx + c with a > 0. Note that x = 3 (our original input value) falls just on the right side of the parabola's vertex, and at x = 3, y is equal to 12, as we computed earlier.\"\n",
      "          },\n",
      "          \"type\": \"text\"\n",
      "        }\n",
      "      ],\n",
      "      \"created_at\": 1709905011,\n",
      "      \"file_ids\": [],\n",
      "      \"metadata\": {},\n",
      "      \"object\": \"thread.message\",\n",
      "      \"role\": \"assistant\",\n",
      "      \"run_id\": \"run_VhaNhfK3PfT2XbNrdEd0V6fW\",\n",
      "      \"thread_id\": \"thread_qCf9vfuqu1lzEE7O05owndnz\"\n",
      "    },\n",
      "    {\n",
      "      \"id\": \"msg_hkkHaDtRfjZ3fCSvrxgh7S8J\",\n",
      "      \"assistant_id\": \"asst_oqoyulQGMfRF0MTRPd5jKdCA\",\n",
      "      \"content\": [\n",
      "        {\n",
      "          \"text\": {\n",
      "            \"annotations\": [],\n",
      "            \"value\": \"The result is y = 12 when x = 3 in the equation y = x^2 + 3.\\n\\nNow, let's move on to the second part of the question: plotting the function y = x^2 + 3.\\n\\nIn python, we usually use a package called matplotlib for plotting graphs. We also use numpy to generate an array of x values for which we will compute the corresponding y values.\\nThe code will look something like this:\\n\\n```python\\nimport matplotlib.pyplot as plt\\nimport numpy as np\\n\\nx_values = np.linspace(-10, 10, 400)\\ny_values = x_values**2 + 3\\n\\nplt.figure(figsize=(6, 6))\\nplt.plot(x_values, y_values)\\nplt.title('Plot of y = x^2 + 3')\\nplt.xlabel('x')\\nplt.ylabel('y')\\nplt.grid(True)\\nplt.show()\\n```\\n\\nThe numpy method linspace generates an array of 400 values from -10 to 10 (inclusive). For each of these x values, we compute the corresponding y value (x^2 + 3).\\n\\nThen, we use various matplotlib.pyplot methods to generate the plot. The 'figure' method creates a new figure, 'plot' generates the plot, 'title', 'xlabel', and 'ylabel' add a title and labels to the plot, 'grid' adds a grid, and 'show' displays the plot.\"\n",
      "          },\n",
      "          \"type\": \"text\"\n",
      "        }\n",
      "      ],\n",
      "      \"created_at\": 1709904957,\n",
      "      \"file_ids\": [],\n",
      "      \"metadata\": {},\n",
      "      \"object\": \"thread.message\",\n",
      "      \"role\": \"assistant\",\n",
      "      \"run_id\": \"run_VhaNhfK3PfT2XbNrdEd0V6fW\",\n",
      "      \"thread_id\": \"thread_qCf9vfuqu1lzEE7O05owndnz\"\n",
      "    },\n",
      "    {\n",
      "      \"id\": \"msg_H1O0wzTwFrk5GE30Eyt741jn\",\n",
      "      \"assistant_id\": \"asst_oqoyulQGMfRF0MTRPd5jKdCA\",\n",
      "      \"content\": [\n",
      "        {\n",
      "          \"text\": {\n",
      "            \"annotations\": [],\n",
      "            \"value\": \"Sure, let's solve it in two steps:\\n\\n1. Substitute x = 3 into the equation y = x^2 + 3 and solve for y.\\n2. Plot the function y = x^2 + 3\\n\\nLet's start with the first step. Here's how we can do that using Python:\\n\\n```python\\nx = 3\\ny = x**2 + 3\\n```\\n\\nIn Python, `**` is the exponentiation operator, so `x**2` gives x squared. Adding 3 to that gives us our y-value.\"\n",
      "          },\n",
      "          \"type\": \"text\"\n",
      "        }\n",
      "      ],\n",
      "      \"created_at\": 1709904942,\n",
      "      \"file_ids\": [],\n",
      "      \"metadata\": {},\n",
      "      \"object\": \"thread.message\",\n",
      "      \"role\": \"assistant\",\n",
      "      \"run_id\": \"run_VhaNhfK3PfT2XbNrdEd0V6fW\",\n",
      "      \"thread_id\": \"thread_qCf9vfuqu1lzEE7O05owndnz\"\n",
      "    },\n",
      "    {\n",
      "      \"id\": \"msg_AjgTthQI4AeMOen2iFNLyHMr\",\n",
      "      \"assistant_id\": null,\n",
      "      \"content\": [\n",
      "        {\n",
      "          \"text\": {\n",
      "            \"annotations\": [],\n",
      "            \"value\": \"Solve the equation y = x^2 + 3 for x = 3 and plot the function graph.\"\n",
      "          },\n",
      "          \"type\": \"text\"\n",
      "        }\n",
      "      ],\n",
      "      \"created_at\": 1709904928,\n",
      "      \"file_ids\": [],\n",
      "      \"metadata\": {},\n",
      "      \"object\": \"thread.message\",\n",
      "      \"role\": \"user\",\n",
      "      \"run_id\": null,\n",
      "      \"thread_id\": \"thread_qCf9vfuqu1lzEE7O05owndnz\"\n",
      "    }\n",
      "  ],\n",
      "  \"object\": \"list\",\n",
      "  \"first_id\": \"msg_If4UmjqvDndXKEtj8cKM83vu\",\n",
      "  \"last_id\": \"msg_AjgTthQI4AeMOen2iFNLyHMr\",\n",
      "  \"has_more\": false\n",
      "}\n"
     ]
    }
   ],
   "source": [
    "# dump the messages on the thread again\n",
    "messages = client.beta.threads.messages.list(\n",
    "  thread_id=thread.id\n",
    ")\n",
    "\n",
    "print(messages.model_dump_json(indent=2))"
   ]
  },
  {
   "cell_type": "markdown",
   "metadata": {},
   "source": [
    "## Showing the response\n",
    "\n",
    "We can show all messages in the array in reverse order to start from the beginning. Depending on the content (text, image) we can do something with it.\n",
    "\n",
    "For now just print the text or file_id if there is one"
   ]
  },
  {
   "cell_type": "code",
   "execution_count": 10,
   "metadata": {},
   "outputs": [
    {
     "name": "stdout",
     "output_type": "stream",
     "text": [
      "Solve the equation y = x^2 + 3 for x = 3 and plot the function graph. \n",
      "\n",
      "Sure, let's solve it in two steps:\n",
      "\n",
      "1. Substitute x = 3 into the equation y = x^2 + 3 and solve for y.\n",
      "2. Plot the function y = x^2 + 3\n",
      "\n",
      "Let's start with the first step. Here's how we can do that using Python:\n",
      "\n",
      "```python\n",
      "x = 3\n",
      "y = x**2 + 3\n",
      "```\n",
      "\n",
      "In Python, `**` is the exponentiation operator, so `x**2` gives x squared. Adding 3 to that gives us our y-value. \n",
      "\n",
      "The result is y = 12 when x = 3 in the equation y = x^2 + 3.\n",
      "\n",
      "Now, let's move on to the second part of the question: plotting the function y = x^2 + 3.\n",
      "\n",
      "In python, we usually use a package called matplotlib for plotting graphs. We also use numpy to generate an array of x values for which we will compute the corresponding y values.\n",
      "The code will look something like this:\n",
      "\n",
      "```python\n",
      "import matplotlib.pyplot as plt\n",
      "import numpy as np\n",
      "\n",
      "x_values = np.linspace(-10, 10, 400)\n",
      "y_values = x_values**2 + 3\n",
      "\n",
      "plt.figure(figsize=(6, 6))\n",
      "plt.plot(x_values, y_values)\n",
      "plt.title('Plot of y = x^2 + 3')\n",
      "plt.xlabel('x')\n",
      "plt.ylabel('y')\n",
      "plt.grid(True)\n",
      "plt.show()\n",
      "```\n",
      "\n",
      "The numpy method linspace generates an array of 400 values from -10 to 10 (inclusive). For each of these x values, we compute the corresponding y value (x^2 + 3).\n",
      "\n",
      "Then, we use various matplotlib.pyplot methods to generate the plot. The 'figure' method creates a new figure, 'plot' generates the plot, 'title', 'xlabel', and 'ylabel' add a title and labels to the plot, 'grid' adds a grid, and 'show' displays the plot. \n",
      "\n",
      "Here is the graph of the function y = x^2 + 3. As you can see, the function represents a parabola that opens upwards, which is a typical shape for quadratic functions in the form y = ax^2 + bx + c with a > 0. Note that x = 3 (our original input value) falls just on the right side of the parabola's vertex, and at x = 3, y is equal to 12, as we computed earlier. \n",
      "\n",
      "Image ID: assistant-OYBIktLCwJ1mImsvIdsg5wqG \n",
      "\n"
     ]
    }
   ],
   "source": [
    "import json\n",
    "\n",
    "messages_json = json.loads(messages.model_dump_json())\n",
    "\n",
    "for item in reversed(messages_json['data']):\n",
    "    # Check the content array\n",
    "    for content in reversed(item['content']):\n",
    "        # If there is text in the content array, print it\n",
    "        if 'text' in content:\n",
    "            print(content['text']['value'], \"\\n\")\n",
    "        # If there is an image_file in the content, print the file_id\n",
    "        if 'image_file' in content:\n",
    "            print(\"Image ID:\" , content['image_file']['file_id'], \"\\n\")"
   ]
  },
  {
   "cell_type": "markdown",
   "metadata": {},
   "source": [
    "## Retrieving the image file\n",
    "\n",
    "Same code as above but show the image with PIL and IPython.display"
   ]
  },
  {
   "cell_type": "code",
   "execution_count": 11,
   "metadata": {},
   "outputs": [
    {
     "name": "stdout",
     "output_type": "stream",
     "text": [
      "Solve the equation y = x^2 + 3 for x = 3 and plot the function graph. \n",
      "\n",
      "Sure, let's solve it in two steps:\n",
      "\n",
      "1. Substitute x = 3 into the equation y = x^2 + 3 and solve for y.\n",
      "2. Plot the function y = x^2 + 3\n",
      "\n",
      "Let's start with the first step. Here's how we can do that using Python:\n",
      "\n",
      "```python\n",
      "x = 3\n",
      "y = x**2 + 3\n",
      "```\n",
      "\n",
      "In Python, `**` is the exponentiation operator, so `x**2` gives x squared. Adding 3 to that gives us our y-value. \n",
      "\n",
      "The result is y = 12 when x = 3 in the equation y = x^2 + 3.\n",
      "\n",
      "Now, let's move on to the second part of the question: plotting the function y = x^2 + 3.\n",
      "\n",
      "In python, we usually use a package called matplotlib for plotting graphs. We also use numpy to generate an array of x values for which we will compute the corresponding y values.\n",
      "The code will look something like this:\n",
      "\n",
      "```python\n",
      "import matplotlib.pyplot as plt\n",
      "import numpy as np\n",
      "\n",
      "x_values = np.linspace(-10, 10, 400)\n",
      "y_values = x_values**2 + 3\n",
      "\n",
      "plt.figure(figsize=(6, 6))\n",
      "plt.plot(x_values, y_values)\n",
      "plt.title('Plot of y = x^2 + 3')\n",
      "plt.xlabel('x')\n",
      "plt.ylabel('y')\n",
      "plt.grid(True)\n",
      "plt.show()\n",
      "```\n",
      "\n",
      "The numpy method linspace generates an array of 400 values from -10 to 10 (inclusive). For each of these x values, we compute the corresponding y value (x^2 + 3).\n",
      "\n",
      "Then, we use various matplotlib.pyplot methods to generate the plot. The 'figure' method creates a new figure, 'plot' generates the plot, 'title', 'xlabel', and 'ylabel' add a title and labels to the plot, 'grid' adds a grid, and 'show' displays the plot. \n",
      "\n",
      "Here is the graph of the function y = x^2 + 3. As you can see, the function represents a parabola that opens upwards, which is a typical shape for quadratic functions in the form y = ax^2 + bx + c with a > 0. Note that x = 3 (our original input value) falls just on the right side of the parabola's vertex, and at x = 3, y is equal to 12, as we computed earlier. \n",
      "\n"
     ]
    },
    {
     "data": {
      "image/png": "[encoded data removed]",
      "text/plain": [
       "<PIL.Image.Image image mode=RGBA size=400x400>"
      ]
     },
     "metadata": {},
     "output_type": "display_data"
    }
   ],
   "source": [
    "from PIL import Image\n",
    "from IPython.display import display\n",
    "\n",
    "for item in reversed(messages_json['data']):\n",
    "    # Check the content array\n",
    "    for content in reversed(item['content']):\n",
    "        # If there is text in the content array, print it\n",
    "        if 'text' in content:\n",
    "            print(content['text']['value'], \"\\n\")\n",
    "        # If there is an image_file in the content, print the file_id\n",
    "        if 'image_file' in content:\n",
    "            file_id = content['image_file']['file_id']\n",
    "            file_content = client.files.content(file_id)\n",
    "            # use PIL with the file_content\n",
    "            img = Image.open(file_content)\n",
    "            img = img.resize((400, 400))\n",
    "            display(img)\n",
    "            \n",
    "            \n"
   ]
  },
  {
   "cell_type": "markdown",
   "metadata": {},
   "source": [
    "## Ask another question\n",
    "\n",
    "We can add another user message to the thread and run it again. But now, we will wait for the response and display it right away.\n",
    "\n",
    "We will use Markdown to display the assistant's response.\n",
    "\n",
    "The new_run function is a helper function to add a question "
   ]
  },
  {
   "cell_type": "code",
   "execution_count": 12,
   "metadata": {},
   "outputs": [
    {
     "name": "stdout",
     "output_type": "stream",
     "text": [
      "Status: completed\n"
     ]
    },
    {
     "data": {
      "text/markdown": [
       "Solve the equation y = x^2 + 3 for x = 3 and plot the function graph."
      ],
      "text/plain": [
       "<IPython.core.display.Markdown object>"
      ]
     },
     "metadata": {},
     "output_type": "display_data"
    },
    {
     "data": {
      "text/markdown": [
       "Sure, let's solve it in two steps:\n",
       "\n",
       "1. Substitute x = 3 into the equation y = x^2 + 3 and solve for y.\n",
       "2. Plot the function y = x^2 + 3\n",
       "\n",
       "Let's start with the first step. Here's how we can do that using Python:\n",
       "\n",
       "```python\n",
       "x = 3\n",
       "y = x**2 + 3\n",
       "```\n",
       "\n",
       "In Python, `**` is the exponentiation operator, so `x**2` gives x squared. Adding 3 to that gives us our y-value."
      ],
      "text/plain": [
       "<IPython.core.display.Markdown object>"
      ]
     },
     "metadata": {},
     "output_type": "display_data"
    },
    {
     "data": {
      "text/markdown": [
       "The result is y = 12 when x = 3 in the equation y = x^2 + 3.\n",
       "\n",
       "Now, let's move on to the second part of the question: plotting the function y = x^2 + 3.\n",
       "\n",
       "In python, we usually use a package called matplotlib for plotting graphs. We also use numpy to generate an array of x values for which we will compute the corresponding y values.\n",
       "The code will look something like this:\n",
       "\n",
       "```python\n",
       "import matplotlib.pyplot as plt\n",
       "import numpy as np\n",
       "\n",
       "x_values = np.linspace(-10, 10, 400)\n",
       "y_values = x_values**2 + 3\n",
       "\n",
       "plt.figure(figsize=(6, 6))\n",
       "plt.plot(x_values, y_values)\n",
       "plt.title('Plot of y = x^2 + 3')\n",
       "plt.xlabel('x')\n",
       "plt.ylabel('y')\n",
       "plt.grid(True)\n",
       "plt.show()\n",
       "```\n",
       "\n",
       "The numpy method linspace generates an array of 400 values from -10 to 10 (inclusive). For each of these x values, we compute the corresponding y value (x^2 + 3).\n",
       "\n",
       "Then, we use various matplotlib.pyplot methods to generate the plot. The 'figure' method creates a new figure, 'plot' generates the plot, 'title', 'xlabel', and 'ylabel' add a title and labels to the plot, 'grid' adds a grid, and 'show' displays the plot."
      ],
      "text/plain": [
       "<IPython.core.display.Markdown object>"
      ]
     },
     "metadata": {},
     "output_type": "display_data"
    },
    {
     "data": {
      "text/markdown": [
       "Here is the graph of the function y = x^2 + 3. As you can see, the function represents a parabola that opens upwards, which is a typical shape for quadratic functions in the form y = ax^2 + bx + c with a > 0. Note that x = 3 (our original input value) falls just on the right side of the parabola's vertex, and at x = 3, y is equal to 12, as we computed earlier."
      ],
      "text/plain": [
       "<IPython.core.display.Markdown object>"
      ]
     },
     "metadata": {},
     "output_type": "display_data"
    },
    {
     "data": {
      "image/png": "[encoded data removed]",
      "text/plain": [
       "<PIL.Image.Image image mode=RGBA size=400x400>"
      ]
     },
     "metadata": {},
     "output_type": "display_data"
    },
    {
     "data": {
      "text/markdown": [
       "Is this a concave function?"
      ],
      "text/plain": [
       "<IPython.core.display.Markdown object>"
      ]
     },
     "metadata": {},
     "output_type": "display_data"
    },
    {
     "data": {
      "text/markdown": [
       "Yes, the function y = x^2 + 3 is a concave-up function. \n",
       "\n",
       "In mathematics, a function is said to be concave up on an interval if the line segment between any two points on the graph of the function lies above or on the graph. \n",
       "\n",
       "For quadratic functions, a simpler way to determine whether it's concave up or down is to look at the coefficient of the x^2 term. If that coefficient is positive, like in our case (where the coefficient is 1), the function is concave up. If that coefficient were negative, the function would be concave down.\n",
       "\n",
       "The concavity of a function can be visually confirmed by its graph. As shown in the plot of our function y = x^2 + 3, the function's graph opens upwards, which characterizes a concave-up function."
      ],
      "text/plain": [
       "<IPython.core.display.Markdown object>"
      ]
     },
     "metadata": {},
     "output_type": "display_data"
    }
   ],
   "source": [
    "from IPython.display import clear_output, display, Markdown\n",
    "import time\n",
    "\n",
    "def new_run(question, thread_id):\n",
    "\n",
    "    # add new message to the thread\n",
    "    message = client.beta.threads.messages.create(\n",
    "        thread_id=thread_id,\n",
    "        role=\"user\",\n",
    "        content=question\n",
    "    )\n",
    "\n",
    "    # run the tread again\n",
    "    run = client.beta.threads.runs.create(\n",
    "    thread_id=thread.id,\n",
    "    assistant_id=assistant.id\n",
    "    )\n",
    "\n",
    "    status = run.status\n",
    "\n",
    "    while status not in [\"completed\", \"cancelled\", \"expired\", \"failed\"]:\n",
    "        time.sleep(2)\n",
    "        run = client.beta.threads.runs.retrieve(thread_id=thread.id,run_id=run.id)\n",
    "        status = run.status\n",
    "        print(f'Status: {status}')\n",
    "        clear_output(wait=True)\n",
    "\n",
    "    print(f'Status: {status}')\n",
    "\n",
    "    messages = client.beta.threads.messages.list(\n",
    "        thread_id=thread.id\n",
    "    )\n",
    "\n",
    "    messages_json = json.loads(messages.model_dump_json())\n",
    "\n",
    "    for item in reversed(messages_json['data']):\n",
    "        # Check the content array\n",
    "        for content in reversed(item['content']):\n",
    "            # If there is text in the content array, print it as Markdown\n",
    "            if 'text' in content:\n",
    "                display(Markdown(content['text']['value']))\n",
    "            # If there is an image_file in the content, print the file_id\n",
    "            if 'image_file' in content:\n",
    "                file_id = content['image_file']['file_id']\n",
    "                file_content = client.files.content(file_id)\n",
    "                # use PIL with the file_content\n",
    "                img = Image.open(file_content)\n",
    "                img = img.resize((400, 400))\n",
    "                display(img)\n",
    "\n",
    "new_run(\"Is this a concave function?\", thread.id)"
   ]
  },
  {
   "cell_type": "code",
   "execution_count": 13,
   "metadata": {},
   "outputs": [
    {
     "name": "stdout",
     "output_type": "stream",
     "text": [
      "Status: completed\n"
     ]
    },
    {
     "data": {
      "text/markdown": [
       "If a woman has two kids of 5 and 7 and she is 33, how many years does it take for the age of the two children to be exactly half her age"
      ],
      "text/plain": [
       "<IPython.core.display.Markdown object>"
      ]
     },
     "metadata": {},
     "output_type": "display_data"
    },
    {
     "data": {
      "text/markdown": [
       "In order for the combined age of the children to be half the mother's age, we need to set up an equation. We can denote the number of years it takes as \"y\". Our equation is:\n",
       "\n",
       "(33 + y) / 2 = 5 + y + 7 + y\n",
       "\n",
       "This equation states that the mother's age plus the number of years, divided by 2, is equal to the starting age of the first child plus the number of years, added to the starting age of the second child plus the number of years. \n",
       "\n",
       "To calculate \"y\", it's simple algebra. Let me quickly run the code to compute the result."
      ],
      "text/plain": [
       "<IPython.core.display.Markdown object>"
      ]
     },
     "metadata": {},
     "output_type": "display_data"
    },
    {
     "data": {
      "text/markdown": [
       "It will take 3 years for the combined age of the two children to be exactly half of the mother's age.\n",
       "\n",
       "Here is how the calculation works:\n",
       "In our equation, we express the condition that half of the mother's age (this increases by one every year) is equal to the total age of her two kids (this increases by two every year because each child gets one year older). \n",
       "In other words, every year the difference between half of the mother's age and the total age of her kids decreases by 0.5 years. \n",
       "\n",
       "At the beginning (when the mother is 33 years old), the difference is (33 / 2) - (5 + 7) = 16.5 - 12 = 4.5 years. Since this difference decreases by 0.5 years each year, it will take 4.5 / 0.5 = 9 years for it to become 0. \n",
       "\n",
       "But we need the kids' total age to be exactly half the mother's age, not less by half (which means the difference is -0.5), so it's 9 years - 6 years = 3 years. \n",
       "\n",
       "So, the correct answer is 3 years."
      ],
      "text/plain": [
       "<IPython.core.display.Markdown object>"
      ]
     },
     "metadata": {},
     "output_type": "display_data"
    }
   ],
   "source": [
    "# create a new thread and run\n",
    "thread = client.beta.threads.create()\n",
    "new_run(\"If a woman has two kids of 5 and 7 and she is 33, how many years does it take for the age of the two children to be exactly half her age\", thread.id)"
   ]
  }
 ],
 "metadata": {
  "kernelspec": {
   "display_name": "Python 3",
   "language": "python",
   "name": "python3"
  },
  "language_info": {
   "codemirror_mode": {
    "name": "ipython",
    "version": 3
   },
   "file_extension": ".py",
   "mimetype": "text/x-python",
   "name": "python",
   "nbconvert_exporter": "python",
   "pygments_lexer": "ipython3",
   "version": "3.11.5"
  }
 },
 "nbformat": 4,
 "nbformat_minor": 2
}
